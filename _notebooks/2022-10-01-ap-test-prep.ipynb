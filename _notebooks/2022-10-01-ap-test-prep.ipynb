{
 "cells": [
  {
   "cell_type": "markdown",
   "metadata": {},
   "source": [
    "# AP Test Multiple Choice Prep\n",
    "> Test Prep.\n",
    "\n",
    "- toc: true \n",
    "- badges: true\n",
    "- comments: true\n",
    "- categories: [jupyter,hacks,wk6]\n",
    "- author: Mati Danish"
   ]
  },
  {
   "cell_type": "markdown",
   "metadata": {},
   "source": [
    "![picture 1](/Users/matidanish/vscode/Danish_Cookies/images/76d25a57d35dddc9e2e9764898c56190b08efdabea7f32ad420cde73501de344.png)  \n"
   ]
  }
 ],
 "metadata": {
  "kernelspec": {
   "display_name": "Python 3.9.12 ('base')",
   "language": "python",
   "name": "python3"
  },
  "language_info": {
   "name": "python",
   "version": "3.9.12"
  },
  "orig_nbformat": 4,
  "vscode": {
   "interpreter": {
    "hash": "a7e4a4ad67805fe9a41fa6577eca6221596502998dd645ea07c8da3239bd21cd"
   }
  }
 },
 "nbformat": 4,
 "nbformat_minor": 2
}
