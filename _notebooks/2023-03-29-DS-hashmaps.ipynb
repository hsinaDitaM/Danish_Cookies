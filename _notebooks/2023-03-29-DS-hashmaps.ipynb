{
 "cells": [
  {
   "attachments": {},
   "cell_type": "markdown",
   "metadata": {},
   "source": [
    "#  Data Structures- Hashmaps, Sets, Hash Tables, Hashing and Collisions\n",
    "> Observing hashmaps with python dictionaries\n",
    "- toc: true\n",
    "- image: /images/python.png\n",
    "- categories: []\n",
    "- type: pbl\n",
    "- week: 28"
   ]
  },
  {
   "attachments": {},
   "cell_type": "markdown",
   "metadata": {},
   "source": [
    "## What is a Hashtable/Hashmap?\n",
    "\n",
    "> A hashtable is a data structure that with a collection of key-value pairs, where each key maps to a value, and the keys must be unique and hashable.\n",
    "\n",
    "- In Python there is a built in hashtable known as a dictionary.\n",
    "\n",
    "> The primary purpose of a hashtable is to provide efficient lookup, insertion, and deletion operations. When an element is to be inserted into the hashtable, a hash function is used to map the key to a specific index in the underlying array that is used to store the key-value pairs. The value is then stored at that index. When searching for a value, the hash function is used again to find the index where the value is stored.\n",
    "\n",
    "> The key advantage of a hashtable over other data structures like arrays and linked lists is its average-case time complexity for lookup, insertion, and deletion operations.\n",
    "\n",
    "- The typical time complexity of a hashtable is _______________. \n"
   ]
  },
  {
   "attachments": {},
   "cell_type": "markdown",
   "metadata": {},
   "source": [
    "## What is Hashing and Collision?\n",
    "\n",
    "> Hashing is the process of mapping a given key to a value in a hash table or hashmap, using a hash function. The hash function takes the key as input and produces a hash value or hash code, which is then used to determine the index in the underlying array where the value is stored. The purpose of hashing is to provide a quick and efficient way to access data, by eliminating the need to search through an entire data structure to find a value.\n",
    "\n",
    "> However, it is possible for two different keys to map to the same hash value, resulting in a collision. When a collision occurs, there are different ways to resolve it, depending on the collision resolution strategy used.\n",
    "\n",
    "> Python's dictionary implementation is optimized to handle collisions efficiently, and the performance of the dictionary is generally very good, even in the presence of collisions. However, if the number of collisions is very high, the performance of the dictionary can degrade, so it is important to choose a good hash function that minimizes collisions when designing a Python dictionary.\n",
    "\n",
    "## What is a Set?\n",
    "out off all values, it only printed out the special values. "
   ]
  },
  {
   "cell_type": "code",
   "execution_count": 1,
   "metadata": {},
   "outputs": [
    {
     "name": "stdout",
     "output_type": "stream",
     "text": [
      "{1, 2, 3}\n"
     ]
    }
   ],
   "source": [
    "# Creating a set using set() function\n",
    "my_set = set([1, 2, 3, 2, 1])\n",
    "print(my_set)  \n",
    "\n",
    "# What do you notice in the output?\n",
    "# it only outputs the special values of the list\n",
    "#\n",
    "\n",
    "# Why do you think Sets are in the same tech talk as Hashmaps/Hashtables?\n",
    "# they share the same things\n",
    "#"
   ]
  },
  {
   "attachments": {},
   "cell_type": "markdown",
   "metadata": {},
   "source": [
    "## Dictionary Example\n",
    "\n",
    "Below are just some basic features of a dictionary. As always, documentation is always the main source for all the full capablilties. "
   ]
  },
  {
   "cell_type": "code",
   "execution_count": 2,
   "metadata": {},
   "outputs": [
    {
     "name": "stdout",
     "output_type": "stream",
     "text": [
      "{'title': 'Lover', 'artist': 'Taylor Swift', 'year': 2019, 'genre': ['Pop', 'Synth-pop'], 'tracks': {1: 'I Forgot That You Existed', 2: 'Cruel Summer', 3: 'Lover', 4: 'The Man', 5: 'The Archer', 6: 'I Think He Knows', 7: 'Miss Americana & The Heartbreak Prince', 8: 'Paper Rings', 9: 'Cornelia Street', 10: 'Death By A Thousand Cuts', 11: 'London Boy', 12: \"Soon You'll Get Better (feat. Dixie Chicks)\", 13: 'False God', 14: 'You Need To Calm Down', 15: 'Afterglow', 16: 'Me! (feat. Brendon Urie of Panic! At The Disco)', 17: \"It's Nice To Have A Friend\", 18: 'Daylight'}}\n"
     ]
    }
   ],
   "source": [
    "# Creating a dictionary with information about the album \"Lover\"\n",
    "lover_album = {\n",
    "    \"title\": \"Lover\",\n",
    "    \"artist\": \"Taylor Swift\",\n",
    "    \"year\": 2019,\n",
    "    \"genre\": [\"Pop\", \"Synth-pop\"],\n",
    "    \"tracks\": {\n",
    "        1: \"I Forgot That You Existed\",\n",
    "        2: \"Cruel Summer\",\n",
    "        3: \"Lover\",\n",
    "        4: \"The Man\",\n",
    "        5: \"The Archer\",\n",
    "        6: \"I Think He Knows\",\n",
    "        7: \"Miss Americana & The Heartbreak Prince\",\n",
    "        8: \"Paper Rings\",\n",
    "        9: \"Cornelia Street\",\n",
    "        10: \"Death By A Thousand Cuts\",\n",
    "        11: \"London Boy\",\n",
    "        12: \"Soon You'll Get Better (feat. Dixie Chicks)\",\n",
    "        13: \"False God\",\n",
    "        14: \"You Need To Calm Down\",\n",
    "        15: \"Afterglow\",\n",
    "        16: \"Me! (feat. Brendon Urie of Panic! At The Disco)\",\n",
    "        17: \"It's Nice To Have A Friend\",\n",
    "        18: \"Daylight\"\n",
    "    }\n",
    "}\n",
    "\n",
    "# What data structures do you see?\n",
    "# A nested dictionary for the album tracks, where the keys are integers representing the track number and the values are strings representing the track names.\n",
    "#\n",
    "#\n",
    "\n",
    "# Printing the dictionary\n",
    "print(lover_album)"
   ]
  },
  {
   "cell_type": "code",
   "execution_count": 3,
   "metadata": {},
   "outputs": [
    {
     "name": "stdout",
     "output_type": "stream",
     "text": [
      "{1: 'I Forgot That You Existed', 2: 'Cruel Summer', 3: 'Lover', 4: 'The Man', 5: 'The Archer', 6: 'I Think He Knows', 7: 'Miss Americana & The Heartbreak Prince', 8: 'Paper Rings', 9: 'Cornelia Street', 10: 'Death By A Thousand Cuts', 11: 'London Boy', 12: \"Soon You'll Get Better (feat. Dixie Chicks)\", 13: 'False God', 14: 'You Need To Calm Down', 15: 'Afterglow', 16: 'Me! (feat. Brendon Urie of Panic! At The Disco)', 17: \"It's Nice To Have A Friend\", 18: 'Daylight'}\n",
      "{1: 'I Forgot That You Existed', 2: 'Cruel Summer', 3: 'Lover', 4: 'The Man', 5: 'The Archer', 6: 'I Think He Knows', 7: 'Miss Americana & The Heartbreak Prince', 8: 'Paper Rings', 9: 'Cornelia Street', 10: 'Death By A Thousand Cuts', 11: 'London Boy', 12: \"Soon You'll Get Better (feat. Dixie Chicks)\", 13: 'False God', 14: 'You Need To Calm Down', 15: 'Afterglow', 16: 'Me! (feat. Brendon Urie of Panic! At The Disco)', 17: \"It's Nice To Have A Friend\", 18: 'Daylight'}\n"
     ]
    }
   ],
   "source": [
    "# Retrieve value from dictionary with key\n",
    "print(lover_album.get('tracks'))\n",
    "# or\n",
    "print(lover_album['tracks'])"
   ]
  },
  {
   "cell_type": "code",
   "execution_count": 4,
   "metadata": {},
   "outputs": [
    {
     "name": "stdout",
     "output_type": "stream",
     "text": [
      "The Man\n",
      "The Man\n"
     ]
    }
   ],
   "source": [
    "# Retrieve value from a dictionary inside a dictionary\n",
    "print(lover_album.get('tracks')[4])\n",
    "# or\n",
    "print(lover_album['tracks'][4])"
   ]
  },
  {
   "cell_type": "code",
   "execution_count": 5,
   "metadata": {},
   "outputs": [
    {
     "name": "stdout",
     "output_type": "stream",
     "text": [
      "{'title': 'Lover', 'artist': 'Taylor Swift', 'year': 2019, 'genre': ['Pop', 'Synth-pop'], 'tracks': {1: 'I Forgot That You Existed', 2: 'Cruel Summer', 3: 'Lover', 4: 'The Man', 5: 'The Archer', 6: 'I Think He Knows', 7: 'Miss Americana & The Heartbreak Prince', 8: 'Paper Rings', 9: 'Cornelia Street', 10: 'Death By A Thousand Cuts', 11: 'London Boy', 12: \"Soon You'll Get Better (feat. Dixie Chicks)\", 13: 'False God', 14: 'You Need To Calm Down', 15: 'Afterglow', 16: 'Me! (feat. Brendon Urie of Panic! At The Disco)', 17: \"It's Nice To Have A Friend\", 18: 'Daylight'}, 'producer': ['Taylor Swift', 'Jack Antonoff', 'Joel Little', 'Taylor Swift', 'Louis Bell', 'Frank Dukes']}\n"
     ]
    }
   ],
   "source": [
    "# adding a value with a new key\n",
    "lover_album[\"producer\"] = ['Taylor Swift', 'Jack Antonoff', 'Joel Little', 'Taylor Swift', 'Louis Bell', 'Frank Dukes']\n",
    "\n",
    "# What can you change to make sure there are no duplicate producers?\n",
    "# delete the extrea\n",
    "# index the list\n",
    "\n",
    "# Printing the dictionary\n",
    "print(lover_album)"
   ]
  },
  {
   "cell_type": "code",
   "execution_count": 6,
   "metadata": {},
   "outputs": [
    {
     "name": "stdout",
     "output_type": "stream",
     "text": [
      "{'title': 'Lover', 'artist': 'Taylor Swift', 'year': 2019, 'genre': ['Pop', 'Synth-pop'], 'tracks': {1: 'I Forgot That You Existed', 2: 'Cruel Summer', 3: 'Lover', 4: 'The Man', 5: 'The Archer', 6: 'I Think He Knows', 7: 'Miss Americana & The Heartbreak Prince', 8: 'Paper Rings', 9: 'Cornelia Street', 10: 'Death By A Thousand Cuts', 11: 'London Boy', 12: \"Soon You'll Get Better (feat. Dixie Chicks)\", 13: 'False God', 14: 'You Need To Calm Down', 15: 'Afterglow', 16: 'Me! (feat. Brendon Urie of Panic! At The Disco)', 17: \"It's Nice To Have A Friend\", 18: 'Daylight', 19: 'All Of The Girls You Loved Before'}, 'producer': ['Taylor Swift', 'Jack Antonoff', 'Joel Little', 'Taylor Swift', 'Louis Bell', 'Frank Dukes']}\n"
     ]
    }
   ],
   "source": [
    "# Adding a an key-value pair to an existing key \n",
    "lover_album[\"tracks\"].update({19: \"All Of The Girls You Loved Before\"})\n",
    "\n",
    "# How would add an additional genre to the dictionary, like electropop? \n",
    "# This will add the string \"Electropop\" to the end of the list of genres in the lover_album dictionary.\n",
    "# \n",
    "\n",
    "# Printing the dictionary\n",
    "print(lover_album)"
   ]
  },
  {
   "cell_type": "code",
   "execution_count": 7,
   "metadata": {},
   "outputs": [
    {
     "name": "stdout",
     "output_type": "stream",
     "text": [
      "title: Lover\n",
      "artist: Taylor Swift\n",
      "year: 2019\n",
      "genre: ['Pop', 'Synth-pop']\n",
      "tracks: {1: 'I Forgot That You Existed', 2: 'Cruel Summer', 3: 'Lover', 4: 'The Man', 5: 'The Archer', 6: 'I Think He Knows', 7: 'Miss Americana & The Heartbreak Prince', 8: 'Paper Rings', 9: 'Cornelia Street', 10: 'Death By A Thousand Cuts', 11: 'London Boy', 12: \"Soon You'll Get Better (feat. Dixie Chicks)\", 13: 'False God', 14: 'You Need To Calm Down', 15: 'Afterglow', 16: 'Me! (feat. Brendon Urie of Panic! At The Disco)', 17: \"It's Nice To Have A Friend\", 18: 'Daylight', 19: 'All Of The Girls You Loved Before'}\n",
      "producer: ['Taylor Swift', 'Jack Antonoff', 'Joel Little', 'Taylor Swift', 'Louis Bell', 'Frank Dukes']\n",
      "Tracks:\n",
      "1: I Forgot That You Existed\n",
      "2: Cruel Summer\n",
      "3: Lover\n",
      "4: The Man\n",
      "5: The Archer\n",
      "6: I Think He Knows\n",
      "7: Miss Americana & The Heartbreak Prince\n",
      "8: Paper Rings\n",
      "9: Cornelia Street\n",
      "10: Death By A Thousand Cuts\n",
      "11: London Boy\n",
      "12: Soon You'll Get Better (feat. Dixie Chicks)\n",
      "13: False God\n",
      "14: You Need To Calm Down\n",
      "15: Afterglow\n",
      "16: Me! (feat. Brendon Urie of Panic! At The Disco)\n",
      "17: It's Nice To Have A Friend\n",
      "18: Daylight\n",
      "19: All Of The Girls You Loved Before\n",
      "Album Information:\n",
      "title: Lover\n",
      "artist: Taylor Swift\n",
      "year: 2019\n",
      "genre: ['Pop', 'Synth-pop']\n",
      "tracks: {1: 'I Forgot That You Existed', 2: 'Cruel Summer', 3: 'Lover', 4: 'The Man', 5: 'The Archer', 6: 'I Think He Knows', 7: 'Miss Americana & The Heartbreak Prince', 8: 'Paper Rings', 9: 'Cornelia Street', 10: 'Death By A Thousand Cuts', 11: 'London Boy', 12: \"Soon You'll Get Better (feat. Dixie Chicks)\", 13: 'False God', 14: 'You Need To Calm Down', 15: 'Afterglow', 16: 'Me! (feat. Brendon Urie of Panic! At The Disco)', 17: \"It's Nice To Have A Friend\", 18: 'Daylight', 19: 'All Of The Girls You Loved Before'}\n",
      "producer: ['Taylor Swift', 'Jack Antonoff', 'Joel Little', 'Taylor Swift', 'Louis Bell', 'Frank Dukes']\n",
      "\n",
      "Tracks:\n",
      "1: I Forgot That You Existed\n",
      "2: Cruel Summer\n",
      "3: Lover\n",
      "4: The Man\n",
      "5: The Archer\n",
      "6: I Think He Knows\n",
      "7: Miss Americana & The Heartbreak Prince\n",
      "8: Paper Rings\n",
      "9: Cornelia Street\n",
      "10: Death By A Thousand Cuts\n",
      "11: London Boy\n",
      "12: Soon You'll Get Better (feat. Dixie Chicks)\n",
      "13: False God\n",
      "14: You Need To Calm Down\n",
      "15: Afterglow\n",
      "16: Me! (feat. Brendon Urie of Panic! At The Disco)\n",
      "17: It's Nice To Have A Friend\n",
      "18: Daylight\n",
      "19: All Of The Girls You Loved Before\n"
     ]
    }
   ],
   "source": [
    "# Print lover_album in more readable format\n",
    "for k,v in lover_album.items(): # iterate using a for loop for key and value\n",
    "    print(str(k) + \": \" + str(v))\n",
    "\n",
    "# Write your own code to print tracks in readable format\n",
    "#\n",
    "#\n",
    "print(\"Tracks:\")\n",
    "for track_num, track_name in lover_album[\"tracks\"].items():\n",
    "    print(str(track_num) + \": \" + track_name)\n",
    "\n",
    "# Print lover_album in more readable format\n",
    "print(\"Album Information:\")\n",
    "for k,v in lover_album.items():\n",
    "    print(str(k) + \": \" + str(v))\n",
    "\n",
    "# Print tracks in readable format\n",
    "print(\"\\nTracks:\")\n",
    "for track_num, track_name in lover_album[\"tracks\"].items():\n",
    "    print(str(track_num) + \": \" + track_name)"
   ]
  },
  {
   "cell_type": "code",
   "execution_count": 8,
   "metadata": {},
   "outputs": [
    {
     "name": "stdout",
     "output_type": "stream",
     "text": [
      "Invalid Search\n"
     ]
    }
   ],
   "source": [
    "# Using conditionals to retrieve a random song\n",
    "def search():\n",
    "    search = input(\"What would you like to know about the album?\")\n",
    "    if lover_album.get(search.lower()) == None:\n",
    "        print(\"Invalid Search\")\n",
    "    else:\n",
    "        print(lover_album.get(search.lower()))\n",
    "\n",
    "search()\n",
    "\n",
    "# This is a very basic code segment, how can you improve upon this code?\n",
    "# One way to improve the code would be to modify the search function to allow for partial key matches, return a random song, provide feedback to the user, and include error handling. and thhe 0other thing that we could do tis \n",
    "#"
   ]
  },
  {
   "attachments": {},
   "cell_type": "markdown",
   "metadata": {},
   "source": [
    "## Hacks\n",
    "\n",
    "- Answer *ALL* questions in the code segments\n",
    "- Create a diagram or comparison illustration (Canva).\n",
    "    - What are the pro and cons of using this data structure? \n",
    "    ![image](https://cdn.discordapp.com/attachments/914072417310232616/1091203148238037082/pros_and_cons_of_hashmapping.png)\n",
    "    - Dictionary vs List   \n",
    "     ![image](https://cdn.discordapp.com/attachments/914072417310232616/1091206301876498503/DictionaryVSlists.png)\n",
    "- Expand upon the code given to you, possible improvements in comments\n",
    "- Build your own album showing features of a python dictionary\n",
    "\n",
    "- For Mr. Yeung's class: Justify your favorite Taylor Swift song, answer may effect seed\n",
    "    - my favorite song of taylor swift is \"shake it up\" and \"bad blood\". they were both from the same  album \"1989,\" which was released in 2014. \"Shake It Off\" is known for its catchy chorus and upbeat message, while \"Bad Blood\" features a collaboration with rapper Kendrick Lamar and is known for its fiery lyrics. These songs helped solidify Taylor Swift's transition from country to pop music and helped establish her as a force to be reckoned with in the industry. Since then, she has continued to release chart-topping albums and has won numerous awards for her music, including multiple Grammys. Taylor Swift's impact on the music industry can be seen not only through her own success, but also through her influence on other artists and her dedication to empowering her fans."
   ]
  },
  {
   "attachments": {},
   "cell_type": "markdown",
   "metadata": {},
   "source": [
    "## build your own album"
   ]
  },
  {
   "cell_type": "code",
   "execution_count": 9,
   "metadata": {},
   "outputs": [
    {
     "name": "stdout",
     "output_type": "stream",
     "text": [
      "--- initial print ---\n",
      "{'title': 'In Rainbows', 'artist': 'Radiohead', 'year': 2007, 'genre': ['Alternative', 'Indie'], 'tracks': {1: '15 Steps', 2: 'Bodysnatchers', 3: 'Nude', 4: 'Weird Fishes/Arpeggi', 5: 'All I Need', 6: 'Faust Arp', 7: 'Reckoner', 8: 'House Of Cards', 9: 'Jigsaw Falling Into Place'}}\n",
      "--- ony with the tracks ---\n",
      "{1: '15 Steps', 2: 'Bodysnatchers', 3: 'Nude', 4: 'Weird Fishes/Arpeggi', 5: 'All I Need', 6: 'Faust Arp', 7: 'Reckoner', 8: 'House Of Cards', 9: 'Jigsaw Falling Into Place'}\n",
      "--- Specific Track ---\n",
      "Jigsaw Falling Into Place\n",
      "--- With producer ---\n",
      "{'title': 'In Rainbows', 'artist': 'Radiohead', 'year': 2007, 'genre': ['Alternative', 'Indie'], 'tracks': {1: '15 Steps', 2: 'Bodysnatchers', 3: 'Nude', 4: 'Weird Fishes/Arpeggi', 5: 'All I Need', 6: 'Faust Arp', 7: 'Reckoner', 8: 'House Of Cards', 9: 'Jigsaw Falling Into Place'}, 'producer': ['Nigel Godrich']}\n",
      "---Added a track---\n",
      "{'title': 'In Rainbows', 'artist': 'Radiohead', 'year': 2007, 'genre': ['Alternative', 'Indie'], 'tracks': {1: '15 Steps', 2: 'Bodysnatchers', 3: 'Nude', 4: 'Weird Fishes/Arpeggi', 5: 'All I Need', 6: 'Faust Arp', 7: 'Reckoner', 8: 'House Of Cards', 9: 'Jigsaw Falling Into Place', 10: 'Videotape'}, 'producer': ['Nigel Godrich']}\n"
     ]
    }
   ],
   "source": [
    "in_rainbows = {\n",
    "    \"title\": \"In Rainbows\",\n",
    "    \"artist\": \"Radiohead\",\n",
    "    \"year\": 2007,\n",
    "    \"genre\": [\"Alternative\", \"Indie\"],\n",
    "    \"tracks\": {\n",
    "        1: \"15 Steps\",\n",
    "        2: \"Bodysnatchers\",\n",
    "        3: \"Nude\",\n",
    "        4: \"Weird Fishes/Arpeggi\",\n",
    "        5: \"All I Need\",\n",
    "        6: \"Faust Arp\",\n",
    "        7: \"Reckoner\",\n",
    "        8: \"House Of Cards\",\n",
    "        9: \"Jigsaw Falling Into Place\",\n",
    "    }\n",
    "}\n",
    "\n",
    "print(\"--- initial print ---\")\n",
    "print(in_rainbows)\n",
    "\n",
    "print(\"--- ony with the tracks ---\")\n",
    "print(in_rainbows.get('tracks'))\n",
    "\n",
    "print(\"--- Specific Track ---\")\n",
    "print(in_rainbows.get('tracks')[9])\n",
    "\n",
    "\n",
    "in_rainbows[\"producer\"] = ['Nigel Godrich']\n",
    "\n",
    "\n",
    "print(\"--- With producer ---\")\n",
    "print(in_rainbows)\n",
    "\n",
    "print(\"---Added a track---\")\n",
    "in_rainbows[\"tracks\"].update({10: \"Videotape\"})\n",
    "print(in_rainbows)\n",
    "\n",
    "\n",
    "\n"
   ]
  },
  {
   "cell_type": "code",
   "execution_count": 10,
   "metadata": {},
   "outputs": [
    {
     "name": "stdout",
     "output_type": "stream",
     "text": [
      "title: In Rainbows\n",
      "artist: Radiohead\n",
      "year: 2007\n",
      "genre: ['Alternative', 'Indie']\n",
      "tracks: {1: '15 Steps', 2: 'Bodysnatchers', 3: 'Nude', 4: 'Weird Fishes/Arpeggi', 5: 'All I Need', 6: 'Faust Arp', 7: 'Reckoner', 8: 'House Of Cards', 9: 'Jigsaw Falling Into Place', 10: 'Videotape'}\n",
      "producer: ['Nigel Godrich']\n",
      "Tracks:\n",
      "1: 15 Steps\n",
      "2: Bodysnatchers\n",
      "3: Nude\n",
      "4: Weird Fishes/Arpeggi\n",
      "5: All I Need\n",
      "6: Faust Arp\n",
      "7: Reckoner\n",
      "8: House Of Cards\n",
      "9: Jigsaw Falling Into Place\n",
      "10: Videotape\n",
      "Album Information:\n",
      "title: In Rainbows\n",
      "artist: Radiohead\n",
      "year: 2007\n",
      "genre: ['Alternative', 'Indie']\n",
      "tracks: {1: '15 Steps', 2: 'Bodysnatchers', 3: 'Nude', 4: 'Weird Fishes/Arpeggi', 5: 'All I Need', 6: 'Faust Arp', 7: 'Reckoner', 8: 'House Of Cards', 9: 'Jigsaw Falling Into Place', 10: 'Videotape'}\n",
      "producer: ['Nigel Godrich']\n",
      "\n",
      "Tracks:\n",
      "1: 15 Steps\n",
      "2: Bodysnatchers\n",
      "3: Nude\n",
      "4: Weird Fishes/Arpeggi\n",
      "5: All I Need\n",
      "6: Faust Arp\n",
      "7: Reckoner\n",
      "8: House Of Cards\n",
      "9: Jigsaw Falling Into Place\n",
      "10: Videotape\n"
     ]
    }
   ],
   "source": [
    "for k,v in in_rainbows.items(): # iterate using a for loop for key and value\n",
    "    print(str(k) + \": \" + str(v))\n",
    "\n",
    "print(\"Tracks:\")\n",
    "for track_num, track_name in in_rainbows[\"tracks\"].items():\n",
    "    print(str(track_num) + \": \" + track_name)\n",
    "\n",
    "# Print in rainbows in more readable format\n",
    "print(\"Album Information:\")\n",
    "for k,v in in_rainbows.items():\n",
    "    print(str(k) + \": \" + str(v))\n",
    "\n",
    "# Print tracks in readable format\n",
    "print(\"\\nTracks:\")\n",
    "for track_num, track_name in in_rainbows[\"tracks\"].items():\n",
    "    print(str(track_num) + \": \" + track_name)"
   ]
  },
  {
   "cell_type": "code",
   "execution_count": 11,
   "metadata": {},
   "outputs": [
    {
     "name": "stdout",
     "output_type": "stream",
     "text": [
      "Invalid Search\n"
     ]
    }
   ],
   "source": [
    "def search():\n",
    "    search = input(\"What would you like to know about the album?\")\n",
    "    if in_rainbows.get(search.lower()) == None:\n",
    "        print(\"Invalid Search\")\n",
    "    else:\n",
    "        print(in_rainbows.get(search.lower()))\n",
    "\n",
    "search()"
   ]
  }
 ],
 "metadata": {
  "kernelspec": {
   "display_name": "base",
   "language": "python",
   "name": "python3"
  },
  "language_info": {
   "codemirror_mode": {
    "name": "ipython",
    "version": 3
   },
   "file_extension": ".py",
   "mimetype": "text/x-python",
   "name": "python",
   "nbconvert_exporter": "python",
   "pygments_lexer": "ipython3",
   "version": "3.10.9"
  },
  "orig_nbformat": 4,
  "vscode": {
   "interpreter": {
    "hash": "38cca0c38332a56087b24af0bc80247f4fced29cb4f7f437d91dc159adec9c4e"
   }
  }
 },
 "nbformat": 4,
 "nbformat_minor": 2
}
