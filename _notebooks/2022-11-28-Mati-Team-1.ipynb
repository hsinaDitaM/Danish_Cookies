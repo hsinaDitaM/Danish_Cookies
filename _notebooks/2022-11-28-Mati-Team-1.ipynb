{
 "cells": [
  {
   "cell_type": "markdown",
   "metadata": {},
   "source": [
    "# Notes\n",
    "- Notice how age is going to be seen when printing the code. That can lead to confusion\n",
    "\n",
    "## Data Types\n",
    "\n",
    "Variables have different data types that store specific kinds of data depending on what is being represented. Some examples are shown below:\n",
    "\n",
    "* integer (numbers)\n",
    "* string (or text/letters)\n",
    "* Boolean (True/False statements)\n",
    "\n",
    "These types of data types can be useful when trying to represent a value. For example, you would not want a variable meant to represent someone's name with an integer.\n",
    "\n",
    "Questions (College Board's Essential Knowledge):\n",
    "1. What exactly IS a variable?\n",
    "2. What is the best data type to represent someone's dog's name?\n",
    "3. Why is it important to give variables specific names before containing values?\n",
    "4. What is the best way to represent someone's phone number?\n",
    "\n",
    "Bonus (Not required but important to know): \n",
    "1. How can we update a variable's value\n",
    "2. What function is used to recieve a user's input?"
   ]
  },
  {
   "cell_type": "markdown",
   "metadata": {},
   "source": [
    "# Hack 1\n",
    "- An assignment operator is the transition character of a variable. = for python for example\n",
    "- Collegeboard pseudocode uses an arrow <--- to assign values to variables\n",
    "- If a variable, x, is initially given a value of 15 and ;ater on changed to 22 it would display 22 because it was changed from 15."
   ]
  },
  {
   "cell_type": "markdown",
   "metadata": {},
   "source": [
    "# Hack 2\n",
    "- A list is a series of varaibles that are listed then printed in one\n",
    "- An element is the characters isside a string\n",
    "- An easy way to reference elementing in a list or string is to use a print command but also list the number of that varable in the list. If it is the thrid item in the list you can put 2 or negative to if theres four items in the list\n",
    "- An example of a string is name = \"Finn\""
   ]
  },
  {
   "cell_type": "code",
   "execution_count": 2,
   "metadata": {},
   "outputs": [
    {
     "name": "stdout",
     "output_type": "stream",
     "text": [
      "Finn ['burger', 'steak', 'burrito']\n"
     ]
    }
   ],
   "source": [
    "name = \"Mati\"\n",
    "favfood = [\"burger\", \"steak\", \"burrito\"]\n",
    "print(name, favfood)"
   ]
  },
  {
   "cell_type": "code",
   "execution_count": 3,
   "metadata": {},
   "outputs": [
    {
     "name": "stdout",
     "output_type": "stream",
     "text": [
      "burrito\n",
      "burrito\n"
     ]
    }
   ],
   "source": [
    "food = [\"burger\", \"steak\", \"burrito\"]\n",
    "print(food[2])\n",
    "print(food[-1])"
   ]
  },
  {
   "cell_type": "code",
   "execution_count": null,
   "metadata": {},
   "outputs": [],
   "source": [
    "num1=input(\"Input a number. \")\n",
    "num2=input(\"Input a number. \")\n",
    "num3=input(\"Input a number. \")\n",
    "add=input(\"How much would you like to add? \")\n",
    "\n",
    "# Add code in the space below\n",
    "\n",
    "numlist = [int(num1), int(num2), int(num3)]\n",
    "\n",
    "# The following is the code that adds the inputted addend to the other numbers. It is hidden from the user.\n",
    "\n",
    "for i in numlist:\n",
    "    numlist[i -1] += int(add)\n",
    "\n",
    "print(numlist)"
   ]
  },
  {
   "cell_type": "markdown",
   "metadata": {},
   "source": [
    "# Hack 4\n",
    "## Python Quiz\n",
    "- Complexity\n",
    "- Abstraction\n"
   ]
  },
  {
   "cell_type": "code",
   "execution_count": null,
   "metadata": {},
   "outputs": [],
   "source": [
    "food = [\"pizza\", \"hot dog\", \"sushi\", \"strawberry\", \"sandwich\"]\n",
    "print(food)"
   ]
  },
  {
   "cell_type": "markdown",
   "metadata": {},
   "source": [
    "- Lists are better for a program than writing out the code because it makes the code more simple. It allows other programers to understand the code better and make edits easier."
   ]
  },
  {
   "cell_type": "code",
   "execution_count": null,
   "metadata": {},
   "outputs": [],
   "source": [
    "team1 = \"Bengals\"\n",
    "team2 = \"Saints\"\n",
    "team3 = \"Texans\"\n",
    "team4 = \"Cowboys\"\n",
    "print(team1, team2, team3, team4)"
   ]
  },
  {
   "cell_type": "code",
   "execution_count": null,
   "metadata": {},
   "outputs": [],
   "source": [
    "team = [\"Bengals\", \"Saint\", \"Texans\", \"Cowboys\"]\n",
    "print(team)"
   ]
  }
 ],
 "metadata": {
  "kernelspec": {
   "display_name": "Python 3.10.1 64-bit",
   "language": "python",
   "name": "python3"
  },
  "language_info": {
   "codemirror_mode": {
    "name": "ipython",
    "version": 3
   },
   "file_extension": ".py",
   "mimetype": "text/x-python",
   "name": "python",
   "nbconvert_exporter": "python",
   "pygments_lexer": "ipython3",
   "version": "3.10.1"
  },
  "orig_nbformat": 4,
  "vscode": {
   "interpreter": {
    "hash": "aee8b7b246df8f9039afb4144a1f6fd8d2ca17a180786b69acc140d282b71a49"
   }
  }
 },
 "nbformat": 4,
 "nbformat_minor": 2
}
