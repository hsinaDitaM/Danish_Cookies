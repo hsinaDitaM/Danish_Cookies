{
 "cells": [
  {
   "attachments": {},
   "cell_type": "markdown",
   "metadata": {},
   "source": [
    "# Unit 3 Vocab\n",
    "\n",
    "\n",
    "- title: Unit 3 Vocab\n",
    "- toc: true\n",
    "- comments: false\n",
    "- categories: [vocab]"
   ]
  },
  {
   "attachments": {},
   "cell_type": "markdown",
   "metadata": {},
   "source": [
    "Characters: Letters that make up words. "
   ]
  },
  {
   "cell_type": "code",
   "execution_count": 37,
   "metadata": {},
   "outputs": [
    {
     "name": "stdout",
     "output_type": "stream",
     "text": [
      "['a, b, c, d, e, f']\n"
     ]
    }
   ],
   "source": [
    "Letters = [\"a, b, c, d, e, f\"]\n",
    "\n",
    "print(Letters)"
   ]
  },
  {
   "attachments": {},
   "cell_type": "markdown",
   "metadata": {},
   "source": [
    "Strings: Sequence of characters that represent text."
   ]
  },
  {
   "cell_type": "code",
   "execution_count": 1,
   "metadata": {},
   "outputs": [
    {
     "name": "stdout",
     "output_type": "stream",
     "text": [
      "['apple, samsung, windows']\n"
     ]
    }
   ],
   "source": [
    "strings = [\"apple, samsung, windows\"]\n",
    "\n",
    "print(strings)"
   ]
  },
  {
   "attachments": {},
   "cell_type": "markdown",
   "metadata": {},
   "source": [
    "Length: The amount of characters in a string. "
   ]
  },
  {
   "cell_type": "code",
   "execution_count": 2,
   "metadata": {},
   "outputs": [
    {
     "name": "stdout",
     "output_type": "stream",
     "text": [
      "HelloWor\n",
      "10\n",
      "Hello\n",
      "Wor\n"
     ]
    }
   ],
   "source": [
    "string = \"HelloWorld\"\n",
    "x = string[0:8]\n",
    "y = string[0:5]\n",
    "z = string[5:8]\n",
    "print(x)\n",
    "print(len(string))\n",
    "print(y)\n",
    "print(z)"
   ]
  },
  {
   "attachments": {},
   "cell_type": "markdown",
   "metadata": {},
   "source": [
    "Concatenation: combination of strings to make sentences. "
   ]
  },
  {
   "cell_type": "code",
   "execution_count": 40,
   "metadata": {},
   "outputs": [
    {
     "name": "stdout",
     "output_type": "stream",
     "text": [
      "Hello how are you? Im good!\n"
     ]
    }
   ],
   "source": [
    "string1 = (\"Hello how are you?\")\n",
    "string2 = (\"Im good!\")\n",
    "\n",
    "print(string1, string2)"
   ]
  },
  {
   "attachments": {},
   "cell_type": "markdown",
   "metadata": {},
   "source": [
    "Traversing Strings: Iterate over the characters in teh string. "
   ]
  },
  {
   "cell_type": "code",
   "execution_count": 3,
   "metadata": {},
   "outputs": [
    {
     "name": "stdout",
     "output_type": "stream",
     "text": [
      "H\n",
      "e\n",
      "l\n",
      "l\n",
      "o\n",
      " \n",
      "W\n",
      "o\n",
      "r\n",
      "l\n",
      "d\n"
     ]
    }
   ],
   "source": [
    "greeting = \"Hello World\"\n",
    "for o in greeting:\n",
    "    print(o)"
   ]
  },
  {
   "attachments": {},
   "cell_type": "markdown",
   "metadata": {},
   "source": [
    "Python if: An if statement is used when you want something to happen IF another thing has occurred. "
   ]
  },
  {
   "cell_type": "code",
   "execution_count": 6,
   "metadata": {},
   "outputs": [
    {
     "name": "stdout",
     "output_type": "stream",
     "text": [
      "x is 1\n"
     ]
    }
   ],
   "source": [
    "x = 1\n",
    "\n",
    "if x == 1:\n",
    "    print(\"x is 1\")"
   ]
  },
  {
   "attachments": {},
   "cell_type": "markdown",
   "metadata": {},
   "source": [
    "Elif: It stands for else if, this is used when the first statement is false but you want to check for another condition. "
   ]
  },
  {
   "cell_type": "code",
   "execution_count": 4,
   "metadata": {},
   "outputs": [
    {
     "name": "stdout",
     "output_type": "stream",
     "text": [
      "price is greater than 100\n"
     ]
    }
   ],
   "source": [
    "price = 98343\n",
    "\n",
    "if price > 100:\n",
    "    print(\"price is greater than 100\")\n",
    "elif price == 100:\n",
    "    print(\"price is 100\")\n",
    "elif price < 100:\n",
    "    print(\"price is less than 100\")"
   ]
  },
  {
   "attachments": {},
   "cell_type": "markdown",
   "metadata": {},
   "source": [
    "Else Conditional: This is used when the first statement is false so you want to run another statement. "
   ]
  },
  {
   "cell_type": "code",
   "execution_count": 5,
   "metadata": {},
   "outputs": [
    {
     "name": "stdout",
     "output_type": "stream",
     "text": [
      "Good evening\n"
     ]
    }
   ],
   "source": [
    "hour = 19\n",
    "if (hour < 18):\n",
    "  greeting = (\"Good day\")\n",
    "else:\n",
    "  greeting = (\"Good evening\")\n",
    "\n",
    "print (greeting)"
   ]
  },
  {
   "attachments": {},
   "cell_type": "markdown",
   "metadata": {},
   "source": [
    "Nested selection statements: whenever selection statements are inside another selection statement. "
   ]
  },
  {
   "cell_type": "code",
   "execution_count": 23,
   "metadata": {},
   "outputs": [
    {
     "name": "stdout",
     "output_type": "stream",
     "text": [
      "it is 19 hours\n"
     ]
    }
   ],
   "source": [
    "hour = 19\n",
    "if hour > 15:\n",
    "    if hour == 15:\n",
    "        print(\"it is 15 hours\")\n",
    "    elif hour == 16:\n",
    "        print(\"it is 16 hours\")\n",
    "    elif hour == 17:\n",
    "        print(\"it is 17 hours\")\n",
    "    elif hour == 18:\n",
    "        print(\"it is 18 hours\")\n",
    "    elif hour == 19:\n",
    "        print(\"it is 19 hours\")"
   ]
  },
  {
   "attachments": {},
   "cell_type": "markdown",
   "metadata": {},
   "source": [
    "While loops with range: While loop is code that keeps running until a certain condition is met, the range would cause only the things in that range to print. "
   ]
  },
  {
   "cell_type": "code",
   "execution_count": 24,
   "metadata": {},
   "outputs": [
    {
     "name": "stdout",
     "output_type": "stream",
     "text": [
      "1\n",
      "2\n",
      "3\n",
      "4\n",
      "5\n",
      "6\n",
      "7\n",
      "8\n",
      "9\n",
      "10\n"
     ]
    }
   ],
   "source": [
    "for num in range(1, 11):\n",
    "\n",
    "    print(num)"
   ]
  },
  {
   "attachments": {},
   "cell_type": "markdown",
   "metadata": {},
   "source": [
    "With lists combining loops with conditionals to break: first create a list, then use a loop so it stops when it reaches a certain number in the list. "
   ]
  },
  {
   "cell_type": "code",
   "execution_count": 28,
   "metadata": {},
   "outputs": [
    {
     "name": "stdout",
     "output_type": "stream",
     "text": [
      "7\n"
     ]
    }
   ],
   "source": [
    "numbers = [1, 2, 3, 4, 5, 6, 7, 8, 9, 10]\n",
    "\n",
    "for number in numbers:\n",
    "    if number == 7:\n",
    "        break\n",
    "\n",
    "print(number)"
   ]
  },
  {
   "attachments": {},
   "cell_type": "markdown",
   "metadata": {},
   "source": [
    "Continue procedural abstraction: Variables are first defined, then later they are used again to solve the problem. "
   ]
  },
  {
   "cell_type": "code",
   "execution_count": 32,
   "metadata": {},
   "outputs": [
    {
     "name": "stdout",
     "output_type": "stream",
     "text": [
      "18\n"
     ]
    }
   ],
   "source": [
    "def multiply(x, y):\n",
    "    return x * y\n",
    "\n",
    "x = 3\n",
    "y = 6\n",
    "\n",
    "print(multiply(x, y))"
   ]
  },
  {
   "attachments": {},
   "cell_type": "markdown",
   "metadata": {},
   "source": [
    "python def procedures: allows you to define a procedure so you can use it more efficiently later on. "
   ]
  },
  {
   "cell_type": "code",
   "execution_count": 35,
   "metadata": {},
   "outputs": [],
   "source": [
    "def multiply(x, y):\n",
    "    return x * y\n",
    "\n"
   ]
  },
  {
   "attachments": {},
   "cell_type": "markdown",
   "metadata": {},
   "source": [
    "Parameters: Its a variable/placeholder for the values of a function. "
   ]
  },
  {
   "cell_type": "code",
   "execution_count": 36,
   "metadata": {},
   "outputs": [],
   "source": [
    "def add(x, y): \n",
    "    return x + y # in this case the parameter is x and y\n"
   ]
  },
  {
   "attachments": {},
   "cell_type": "markdown",
   "metadata": {},
   "source": [
    "Return values: the value that function returns to when it wants to recall a variable. "
   ]
  },
  {
   "cell_type": "code",
   "execution_count": null,
   "metadata": {},
   "outputs": [],
   "source": [
    "def add(x, y):\n",
    "    return x + y\n",
    "\n",
    "x = 3\n",
    "y = 6\n",
    "\n",
    "print(multiply(x, y)) # recalls a variable previously defined"
   ]
  }
 ],
 "metadata": {
  "kernelspec": {
   "display_name": "Python 3",
   "language": "python",
   "name": "python3"
  },
  "language_info": {
   "codemirror_mode": {
    "name": "ipython",
    "version": 3
   },
   "file_extension": ".py",
   "mimetype": "text/x-python",
   "name": "python",
   "nbconvert_exporter": "python",
   "pygments_lexer": "ipython3",
   "version": "3.10.1 (v3.10.1:2cd268a3a9, Dec  6 2021, 14:28:59) [Clang 13.0.0 (clang-1300.0.29.3)]"
  },
  "orig_nbformat": 4,
  "vscode": {
   "interpreter": {
    "hash": "aee8b7b246df8f9039afb4144a1f6fd8d2ca17a180786b69acc140d282b71a49"
   }
  }
 },
 "nbformat": 4,
 "nbformat_minor": 2
}
