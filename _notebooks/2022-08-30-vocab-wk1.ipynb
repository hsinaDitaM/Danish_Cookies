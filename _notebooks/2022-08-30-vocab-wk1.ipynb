{
 "cells": [
  {
   "cell_type": "markdown",
   "metadata": {},
   "source": [
    "# Fastpages Notebook Blog Post\n",
    "> A tutorial of fastpages for Jupyter notebooks.\n",
    "\n",
    "- toc: true \n",
    "- badges: true\n",
    "- comments: true\n",
    "- categories: [jupyter]\n",
    "- author: Mati Danish"
   ]
  },
  {
   "cell_type": "markdown",
   "metadata": {},
   "source": [
    "\n",
    "- If statement  = if it is true than it will do the thing that you tell it to. if falls then it will do the other thing that you tell it to.\n",
    "\n",
    "- def state = defines a variable\n",
    "\n",
    "- Markdown = a fast text editor\n",
    "\n",
    "- Jupyter = a type of file that allows you to run and write code at the same time. \n",
    "\n",
    "- vscode = an IDE that supports: Python, HTML, Javascript, Markdown,  jupyter, and etc. \n",
    "\n",
    "- bash = a unix powered shell created it 1989. Most common shell. Window's powershell is built on bash\n",
    "\n",
    "- zsh = full name: Z shell. created in 1990. macOS uses zsh as default. \n",
    "\n",
    "- github = an internet website used for hosting code. \n",
    "\n",
    "> warning: there are many more vocab but these are the most common. "
   ]
  }
 ],
 "metadata": {
  "kernelspec": {
   "display_name": "Python 3.10.1 64-bit",
   "language": "python",
   "name": "python3"
  },
  "language_info": {
   "name": "python",
   "version": "3.10.1"
  },
  "orig_nbformat": 4,
  "vscode": {
   "interpreter": {
    "hash": "aee8b7b246df8f9039afb4144a1f6fd8d2ca17a180786b69acc140d282b71a49"
   }
  }
 },
 "nbformat": 4,
 "nbformat_minor": 2
}
