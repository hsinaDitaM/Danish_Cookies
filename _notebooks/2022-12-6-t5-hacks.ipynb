{
 "cells": [
  {
   "attachments": {},
   "cell_type": "markdown",
   "metadata": {},
   "source": [
    "# Unit 3.9 & 3.11 Hacks\n",
    "- toc: true\n",
    "- badges: true\n",
    "- categories: [trimester 2 student teaching]\n",
    "- tags: [hacks]"
   ]
  },
  {
   "attachments": {},
   "cell_type": "markdown",
   "metadata": {},
   "source": [
    "# notes\n",
    "- sequances must tbe sequanced quicku\n",
    "- Algorithms with iteration repeat a function until a goal is reached\n",
    "    - To more easily represent an algorithm without showing all the repeated steps, we can use iteration\n",
    "- Algorithms with selection only go through certain functions if certain things are true or false\n",
    "- However, Algorithms that look similar might not always have the same result\n",
    "- Different algorithms can be used to solve the same problem\n",
    "When collaborating or working on group projects, two people might come up with two different ways to solve a problem, and that happens a lot.\n",
    "- know that same goal can be achieved in many ways (the possibilities are endless)\n",
    "- make notes in you code! (explain how it works to others or you future self)\n"
   ]
  },
  {
   "cell_type": "markdown",
   "metadata": {},
   "source": [
    "# Hack #1"
   ]
  },
  {
   "cell_type": "markdown",
   "metadata": {},
   "source": [
    "1. why is it important to know that algorithms that look different can do the same thing and that algorithms that look the same might have different results?(0.15)\n",
    "    -  some people might use their variables differently tha you do so that they feel comfortable the way they look at the code. "
   ]
  },
  {
   "cell_type": "code",
   "execution_count": 2,
   "metadata": {},
   "outputs": [
    {
     "name": "stdout",
     "output_type": "stream",
     "text": [
      "Don't buy the PS5 :(\n"
     ]
    }
   ],
   "source": [
    "# Hack 1 #2:\n",
    "haveMoney = False\n",
    "storeOpen = True\n",
    "driveSchool = not(haveMoney) and storeOpen\n",
    "if driveSchool == False:\n",
    "    print(\"Buy the PS5\")\n",
    "if driveSchool == True:\n",
    "    print(\"Don't buy the PS5 :(\")"
   ]
  },
  {
   "cell_type": "markdown",
   "metadata": {},
   "source": [
    "# Hacks #2\n",
    "\n",
    "Develop your own complex algorithm using a flowchart and natural language, then code it!\n",
    "\n",
    "Requirements:\n",
    "- Includes both a flowchart AND natural language\n",
    "- Working code of the same algorithm\n",
    "- Incorporates selection AND/OR iteration\n",
    "- Make it creative!"
   ]
  },
  {
   "attachments": {},
   "cell_type": "markdown",
   "metadata": {},
   "source": [
    "(need vpn to see images)"
   ]
  },
  {
   "attachments": {},
   "cell_type": "markdown",
   "metadata": {},
   "source": [
    "![image](https://cdn.discordapp.com/attachments/749785363215679638/1050981980512198696/Screenshot_2022-12-09_at_7.46.57_PM.png)"
   ]
  },
  {
   "cell_type": "code",
   "execution_count": 1,
   "metadata": {},
   "outputs": [
    {
     "name": "stdout",
     "output_type": "stream",
     "text": [
      "go back to sleep\n"
     ]
    }
   ],
   "source": [
    "tried = True\n",
    "work = False\n",
    "\n",
    "w = \"wake up\"\n",
    "g = \"go back to sleep\"\n",
    "\n",
    "if tried == True and work == True:\n",
    "    print(w)\n",
    "if tried == False and work == True:\n",
    "    print(w)\n",
    "if tried == False and work == False:\n",
    "    print(g)\n",
    "if tried == True and work == False:\n",
    "    print(g)\n",
    "\n",
    "\n",
    "\n"
   ]
  },
  {
   "cell_type": "code",
   "execution_count": 6,
   "metadata": {},
   "outputs": [
    {
     "name": "stdout",
     "output_type": "stream",
     "text": [
      "I'm thinking of a number between 1 and 100.\n",
      "You guessed 45.\n",
      "Higher\n",
      "Guess a number between 45 and 100.\n",
      "You guessed 70.\n",
      "Higher\n",
      "Guess a number between 70 and 100.\n",
      "You guessed 90.\n",
      "Lower\n",
      "Guess a number between 70 and 90.\n",
      "You guessed 80.\n",
      "Lower\n",
      "Guess a number between 70 and 80.\n",
      "You guessed 75.\n",
      "Higher\n",
      "Guess a number between 75 and 80.\n",
      "You guessed 75.\n",
      "Higher\n",
      "Guess a number between 75 and 80.\n",
      "You guessed 78.\n",
      "Higher\n",
      "Guess a number between 78 and 80.\n",
      "You guessed 78.\n",
      "Higher\n",
      "Guess a number between 78 and 80.\n",
      "You guessed 79.\n",
      "Guess a number between 78 and 80.\n",
      "You guessed the number in 9 guesses!\n"
     ]
    }
   ],
   "source": [
    "import random\n",
    "\n",
    "#sets variables for the game\n",
    "num_guesses = 0\n",
    "user_guess = 0\n",
    "upper_bound = 100\n",
    "lower_bound = 0\n",
    "\n",
    "#generates a random number\n",
    "number = random.randint(1,100)\n",
    "\n",
    "# print(number)     #for testing purposes\n",
    "\n",
    "print(f\"I'm thinking of a number between 1 and 100.\")\n",
    "\n",
    "#Write a function that gets a guess from the user using input()\n",
    "def guess():\n",
    "    user_input = int(input())\n",
    "    return user_input\n",
    "\n",
    "#Change the print statements to give feedback on whether the player guessed too high or too low\n",
    "def search(number, guess):\n",
    "    global lower_bound, upper_bound\n",
    "    if guess < number:\n",
    "        print(\"Higher\") #change this\n",
    "        lower_bound = guess\n",
    "    elif guess > number:\n",
    "        print(\"Lower\") #change this\n",
    "        upper_bound = guess\n",
    "    return lower_bound, upper_bound\n",
    "\n",
    "while user_guess != number:\n",
    "    user_guess = guess()\n",
    "    num_guesses += 1\n",
    "    print(f\"You guessed {user_guess}.\")\n",
    "    lower_bound, upper_bound = search(number, user_guess)\n",
    "    print(f\"Guess a number between {lower_bound} and {upper_bound}.\")\n",
    "\n",
    "print(f\"You guessed the number in {num_guesses} guesses!\")"
   ]
  },
  {
   "attachments": {},
   "cell_type": "markdown",
   "metadata": {},
   "source": [
    "1. calculate the middle index and create a binary tree for each of these lists\n",
    "    - 12, 14, 43, <mark> 57,</mark> 79, 80, 99\n",
    "    - 92, 43, 74, 66, 30, 12, 1\n",
    "        - 1, 12, 30,<mark> 43, </mark> 66, 74, 92\n",
    "![iamge](https://cdn.discordapp.com/attachments/914072417310232616/1050983903738998805/Screenshot_2022-12-09_at_7.54.41_PM.png)\n",
    "\n",
    "![image2](https://cdn.discordapp.com/attachments/914072417310232616/1050983903738998805/Screenshot_2022-12-09_at_7.54.41_PM.png)\n",
    "    - 7, 13, 96, 111, 33, 84, 60\n",
    "        - 7, 13, 33, <mark> 60 </mark>, 84, 96, 111\n",
    "![image](https://cdn.discordapp.com/attachments/914072417310232616/1050985167315013642/Screenshot_2022-12-09_at_7.59.44_PM.png)\n",
    "2. Using one of the sets of numbers from the question above, what would be the second number looked at in a binary search if the number is more than the middle number?\n",
    " - 96, third example.\n",
    "3. Which of the following lists can NOT a binary search be used in order to find a targeted value?\n",
    "\n",
    "    a. [\"amy\", \"beverly\", \"christian\", \"devin\"]\n",
    "\n",
    "   <mark> b. [-1, 2, 6, 9, 19] </mark>\n",
    "\n",
    "    c. [3, 2, 8, 12, 99]\n",
    "    \n",
    "    d. [\"xylophone\", \"snowman\", \"snake\", \"doorbell\", \"author\"]"
   ]
  }
 ],
 "metadata": {
  "kernelspec": {
   "display_name": "Python 3.10.1 64-bit",
   "language": "python",
   "name": "python3"
  },
  "language_info": {
   "codemirror_mode": {
    "name": "ipython",
    "version": 3
   },
   "file_extension": ".py",
   "mimetype": "text/x-python",
   "name": "python",
   "nbconvert_exporter": "python",
   "pygments_lexer": "ipython3",
   "version": "3.10.1 (v3.10.1:2cd268a3a9, Dec  6 2021, 14:28:59) [Clang 13.0.0 (clang-1300.0.29.3)]"
  },
  "orig_nbformat": 4,
  "vscode": {
   "interpreter": {
    "hash": "aee8b7b246df8f9039afb4144a1f6fd8d2ca17a180786b69acc140d282b71a49"
   }
  }
 },
 "nbformat": 4,
 "nbformat_minor": 2
}
