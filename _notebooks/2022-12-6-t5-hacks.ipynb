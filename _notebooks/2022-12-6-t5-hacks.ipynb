{
 "cells": [
  {
   "cell_type": "markdown",
   "metadata": {},
   "source": [
    "# Unit 3.9 & 3.11 Hacks\n",
    "- toc: true\n",
    "- badges: true\n",
    "- categories: [trimester 2 student teaching]"
   ]
  },
  {
   "attachments": {},
   "cell_type": "markdown",
   "metadata": {},
   "source": [
    "# notes\n",
    "- sequances must tbe sequanced quicku\n",
    "- Algorithms with iteration repeat a function until a goal is reached\n",
    "    - To more easily represent an algorithm without showing all the repeated steps, we can use iteration\n",
    "- Algorithms with selection only go through certain functions if certain things are true or false\n",
    "- However, Algorithms that look similar might not always have the same result\n",
    "- Different algorithms can be used to solve the same problem\n",
    "When collaborating or working on group projects, two people might come up with two different ways to solve a problem, and that happens a lot.\n",
    "- know that same goal can be achieved in many ways (the possibilities are endless)\n",
    "- make notes in you code! (explain how it works to others or you future self)\n"
   ]
  },
  {
   "cell_type": "markdown",
   "metadata": {},
   "source": [
    "# Hack #1"
   ]
  },
  {
   "cell_type": "markdown",
   "metadata": {},
   "source": [
    "1. why is it important to know that algorithms that look different can do the same thing and that algorithms that look the same might have different results?(0.15)\n",
    "    -  some people might use their variables differently tha you do so that they feel comfortable the way they look at the code. "
   ]
  },
  {
   "cell_type": "code",
   "execution_count": 2,
   "metadata": {},
   "outputs": [
    {
     "name": "stdout",
     "output_type": "stream",
     "text": [
      "Don't buy the PS5 :(\n"
     ]
    }
   ],
   "source": [
    "# Hack 1 #2:\n",
    "haveMoney = False\n",
    "storeOpen = True\n",
    "driveSchool = not(haveMoney) and storeOpen\n",
    "if driveSchool == False:\n",
    "    print(\"Buy the PS5\")\n",
    "if driveSchool == True:\n",
    "    print(\"Don't buy the PS5 :(\")"
   ]
  },
  {
   "cell_type": "markdown",
   "metadata": {},
   "source": [
    "# Hacks #2\n",
    "\n",
    "Develop your own complex algorithm using a flowchart and natural language, then code it!\n",
    "\n",
    "Requirements:\n",
    "- Includes both a flowchart AND natural language\n",
    "- Working code of the same algorithm\n",
    "- Incorporates selection AND/OR iteration\n",
    "- Make it creative!"
   ]
  }
 ],
 "metadata": {
  "kernelspec": {
   "display_name": "Python 3.10.1 64-bit",
   "language": "python",
   "name": "python3"
  },
  "language_info": {
   "codemirror_mode": {
    "name": "ipython",
    "version": 3
   },
   "file_extension": ".py",
   "mimetype": "text/x-python",
   "name": "python",
   "nbconvert_exporter": "python",
   "pygments_lexer": "ipython3",
   "version": "3.10.1 (v3.10.1:2cd268a3a9, Dec  6 2021, 14:28:59) [Clang 13.0.0 (clang-1300.0.29.3)]"
  },
  "orig_nbformat": 4,
  "vscode": {
   "interpreter": {
    "hash": "aee8b7b246df8f9039afb4144a1f6fd8d2ca17a180786b69acc140d282b71a49"
   }
  }
 },
 "nbformat": 4,
 "nbformat_minor": 2
}
