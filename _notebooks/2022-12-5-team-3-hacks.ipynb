{
 "cells": [
  {
   "cell_type": "markdown",
   "metadata": {},
   "source": [
    "# Unit 3 Sections 8 and 10\n",
    "> During this lesson sections 8 and 10 will discuss lists and iteration\n",
    "\n",
    "- title: Unit 3 Sections 8 and 10\n",
    "- toc: true\n",
    "- comments: true\n",
    "- categories: [lesson plans]"
   ]
  },
  {
   "cell_type": "markdown",
   "metadata": {},
   "source": [
    "\n",
    "# Hacks\n",
    "- Explain in your own words what each logical operator does\n",
    "    - AND: used to check if conditions are met\n",
    "    - OR: used to check if one condition is met\n",
    "    - NOT: it displays the opposite of whatever the data is. Mainly used for true/false, and does not effect the variable.\n",
    "- Code your own scenario that makes sense for each logical operator"
   ]
  },
  {
   "cell_type": "code",
   "execution_count": 3,
   "metadata": {},
   "outputs": [
    {
     "name": "stdout",
     "output_type": "stream",
     "text": [
      "False\n"
     ]
    }
   ],
   "source": [
    "# Not operator\n",
    "pulling = True\n",
    "result = not(pulling)\n",
    "print(result)"
   ]
  },
  {
   "cell_type": "code",
   "execution_count": 5,
   "metadata": {},
   "outputs": [
    {
     "name": "stdout",
     "output_type": "stream",
     "text": [
      "You can pull!\n"
     ]
    }
   ],
   "source": [
    "# And operator\n",
    "handsomeness = 95\n",
    "if handsomeness > 70 and handsomeness <= 100:\n",
    "    print(\"You can pull!\")"
   ]
  },
  {
   "cell_type": "code",
   "execution_count": 6,
   "metadata": {},
   "outputs": [
    {
     "name": "stdout",
     "output_type": "stream",
     "text": [
      "You cant pull :(\n"
     ]
    }
   ],
   "source": [
    "# Or operator\n",
    "Handsomeness = 1\n",
    "Personality = 21\n",
    "if Handsomeness <= 0 or Personality > 20:\n",
    "    print(\"You cant pull :(\")"
   ]
  },
  {
   "cell_type": "code",
   "execution_count": 10,
   "metadata": {},
   "outputs": [
    {
     "name": "stdout",
     "output_type": "stream",
     "text": [
      "74.66666666666667\n",
      " you failed, you must be a failure to your parents. see you in summer 🤡\n"
     ]
    }
   ],
   "source": [
    "# lesson 3.6 hacks:\n",
    "test1= 65\n",
    "test2 = 67\n",
    "test3 = 92\n",
    "overall = test1 + test2 + test3\n",
    "average = overall / 3\n",
    "print(average)\n",
    "\n",
    "if average >= 75:\n",
    "    print(\"you passes the class!\")\n",
    "else: \n",
    "    print(\" you failed, you must be a failure to your parents. see you in summer 🤡\")\n"
   ]
  },
  {
   "cell_type": "markdown",
   "metadata": {},
   "source": [
    "### i did more than what the hack said to do.... a 1 maybe?"
   ]
  },
  {
   "cell_type": "code",
   "execution_count": 14,
   "metadata": {},
   "outputs": [
    {
     "name": "stdout",
     "output_type": "stream",
     "text": [
      "35 + 61 = 96\n",
      "Your number is less than 100 :(\n"
     ]
    }
   ],
   "source": [
    "num1 = int(input(\"enter number one >>\"))\n",
    "num2 = int(input(\"enter number one >>\"))\n",
    "num = num1 + num2\n",
    "\n",
    "print(num1, \"+\", num2, \"=\", num)\n",
    "if num <= 100:\n",
    "    print(\"Your number is less than 100 :(\")\n",
    "else:\n",
    "    print(\"Your number is greater than 100!\")"
   ]
  },
  {
   "cell_type": "markdown",
   "metadata": {},
   "source": [
    "###Pythagoras theorem."
   ]
  },
  {
   "cell_type": "code",
   "execution_count": 16,
   "metadata": {},
   "outputs": [
    {
     "name": "stdout",
     "output_type": "stream",
     "text": [
      "Solving for the hyp, leg A (vertical) or leg B (horizontal)?\n",
      "(1) - Hyp.\n",
      "(2) - Leg A\n",
      "(3) - Leg B\n",
      "------------------------------------------------------------\n",
      "Solving for the leg B\n",
      "------------------------------------------------------------\n",
      "please input the value of variable A\n",
      "please input the value of variable C / hypotenuse.\n",
      "4.0\n",
      "------------------------------------------------------------\n"
     ]
    }
   ],
   "source": [
    "import time \n",
    "import math\n",
    "\n",
    "print(\"Solving for the hyp, leg A (vertical) or leg B (horizontal)?\")\n",
    "print(\"(1) - Hyp.\")\n",
    "print(\"(2) - Leg A\")\n",
    "print(\"(3) - Leg B\")\n",
    "response= input(\">>\")\n",
    "\n",
    "if response == \"1\":\n",
    "    print(\"------------------------------------------------------------\")\n",
    "    print(\"Solving for the hypotenuse\")\n",
    "    print(\"------------------------------------------------------------\")\n",
    "    print(\"Please input the value of variable A\")\n",
    "    a=int(input(\">>\"))\n",
    "    print(\"please input the value of variole B\")\n",
    "    b=int(input(\">>\"))\n",
    "\n",
    "    x=a**2\n",
    "    y=b**2\n",
    "\n",
    "    c= x+y\n",
    "\n",
    "    answer=math.sqrt(c)\n",
    "    print(\"variable C is:\")\n",
    "    print(answer)\n",
    "    print(\"------------------------------------------------------------\")\n",
    "    time. sleep(2)\n",
    "else:\n",
    "    if response == \"2\":\n",
    "        print(\"------------------------------------------------------------\")\n",
    "        print(\"Solving for the leg B\")\n",
    "        print(\"------------------------------------------------------------\")\n",
    "        print (\"please input the value of variable A\")\n",
    "        b2= int(input(\">>\"))\n",
    "\n",
    "        print (\"please input the value of variable C / hypotenuse.\")\n",
    "        c2= int(input(\">>\"))\n",
    "\n",
    "        b3=b2**2\n",
    "        c3=c2**2\n",
    "\n",
    "        a2=c3-b3\n",
    "\n",
    "        answer2= math.sqrt(a2)\n",
    "\n",
    "        print(answer2)\n",
    "\n",
    "        print(\"------------------------------------------------------------\")\n",
    "        time. sleep(2)\n",
    "\n",
    "    else:\n",
    "        if response == \"3\":\n",
    "            print(\"------------------------------------------------------------\")\n",
    "            print(\"Solving for the leg A\")\n",
    "            print(\"------------------------------------------------------------\")\n",
    "            print (\"please input the value of variable B\")\n",
    "            b4=int(input(\">>\"))\n",
    "\n",
    "            print (\"please input the value of variable C / hypotenuse.\")\n",
    "            c4= int(input(\">>\"))\n",
    "\n",
    "            b5=b4**2\n",
    "            c5=c4**2\n",
    "\n",
    "            a3=c5-b5\n",
    "\n",
    "            answer3= math.sqrt(a3)\n",
    "\n",
    "            print(answer3)\n",
    "\n",
    "            print(\"------------------------------------------------------------\")\n",
    "            time. sleep(2)"
   ]
  },
  {
   "cell_type": "markdown",
   "metadata": {},
   "source": [
    "^ the varible for the a and b was 3 & 5"
   ]
  }
 ],
 "metadata": {
  "kernelspec": {
   "display_name": "Python 3.10.1 64-bit",
   "language": "python",
   "name": "python3"
  },
  "language_info": {
   "codemirror_mode": {
    "name": "ipython",
    "version": 3
   },
   "file_extension": ".py",
   "mimetype": "text/x-python",
   "name": "python",
   "nbconvert_exporter": "python",
   "pygments_lexer": "ipython3",
   "version": "3.10.1"
  },
  "orig_nbformat": 4,
  "vscode": {
   "interpreter": {
    "hash": "aee8b7b246df8f9039afb4144a1f6fd8d2ca17a180786b69acc140d282b71a49"
   }
  }
 },
 "nbformat": 4,
 "nbformat_minor": 2
}
