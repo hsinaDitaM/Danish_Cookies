{
 "cells": [
  {
   "cell_type": "markdown",
   "metadata": {},
   "source": [
    "# API HACK\n",
    "> API hack for week 6\n",
    "- title: API HACK\n",
    "- toc: true\n",
    "- permalink: /API\n",
    "- categories: [1.A, 5.B, 5.D]\n",
    "- tags: [api, rapidapi]\n",
    "- type: pbl\n",
    "- week: 7"
   ]
  },
  {
   "cell_type": "code",
   "execution_count": 4,
   "metadata": {},
   "outputs": [
    {
     "name": "stdout",
     "output_type": "stream",
     "text": [
      "Translated from:  en\n",
      "Translated to:  fr\n",
      "---\n",
      "Input:  Hello World\n",
      "Translation:  Bonjour le monde\n"
     ]
    }
   ],
   "source": [
    "from urllib.parse import quote as url_encode\n",
    "import requests\n",
    "\n",
    "API_KEY = \"2fca282dccmshc5e25cf9e56b999p12a8d0jsnb430f003e7e3\"\n",
    "NOT_PROVIDED = \"\"\n",
    "\n",
    "class ApiError(Exception):\n",
    "    pass\n",
    "\n",
    "class NotConfidentError(ApiError):\n",
    "    pass\n",
    "\n",
    "class TranslateNotProvidedError(ApiError):\n",
    "    pass\n",
    "\n",
    "class ExceedsMonthlyUsage(ApiError):\n",
    "    pass\n",
    "\n",
    "class MatiTranslator:\n",
    "    def __init__(self, API_KEY):\n",
    "        self.headers = {\n",
    "            \"content-type\": \"application/x-www-form-urlencoded\",\n",
    "            \"X-RapidAPI-Key\": API_KEY,\n",
    "            \"X-RapidAPI-Host\": \"google-translate1.p.rapidapi.com\"\n",
    "        }\n",
    "\n",
    "    def make_request(self, method, *args, **kwargs):\n",
    "        r = requests.request(method, *args, **kwargs)\n",
    "\n",
    "        # code for exceeding month usage\n",
    "        if r.status_code == 429:\n",
    "            raise ExceedsMonthlyUsage(f\"Response: {r.text}\")\n",
    "\n",
    "        # print(r.status_code)\n",
    "        # print(r.text)\n",
    "\n",
    "        return r\n",
    "\n",
    "\n",
    "    def detect_language(self, text):\n",
    "        url = \"https://google-translate1.p.rapidapi.com/language/translate/v2/detect\"\n",
    "\n",
    "        payload = {\n",
    "            \"q\": url_encode(text),\n",
    "        }\n",
    "\n",
    "        r = self.make_request(\"POST\", url, data=payload, headers=self.headers).json()\n",
    "\n",
    "        data = r[\"data\"][\"detections\"][0][0]\n",
    "        return (data[\"language\"], data[\"confidence\"])\n",
    "\n",
    "    def translate(self, text, language=\"\", to=\"\"):\n",
    "        if to is NOT_PROVIDED:\n",
    "            raise TranslateNotProvidedError(\"add a language that that you want to translate to\")\n",
    "\n",
    "        if language is NOT_PROVIDED:\n",
    "            language, confidence = self.detect_language(text)\n",
    "\n",
    "            if confidence < 0.5:\n",
    "                raise NotConfidentError(f\"{confidence*100=}%\")\n",
    "\n",
    "        url = \"https://google-translate1.p.rapidapi.com/language/translate/v2\"\n",
    "\n",
    "        payload = {\n",
    "            \"source\": language,\n",
    "            \"q\": text,\n",
    "            \"target\": to,\n",
    "        }\n",
    "\n",
    "        r = self.make_request(\"POST\", url, data=payload, headers=self.headers).json()\n",
    "\n",
    "        return r[\"data\"][\"translations\"][0][\"translatedText\"]\n",
    "\n",
    "if __name__ ==  \"__main__\":\n",
    "    int1 = input(\"Enter the language you want to translate. >>\")\n",
    "    int2 = input(\"Enter the language you want to translate to. >>\")\n",
    "    text = input(\"Enter your text. >>\")\n",
    "\n",
    "    translator = MatiTranslator(API_KEY)\n",
    "\n",
    "print(\"Translated from: \",int1)\n",
    "print(\"Translated to: \",int2)\n",
    "print(\"---\")\n",
    "print(\"Input: \",text)\n",
    "print(\n",
    "\t\"Translation: \", \n",
    "\ttranslator.translate(text, language=int1, to=int2)\n",
    ")\n"
   ]
  }
 ],
 "metadata": {
  "kernelspec": {
   "display_name": "Python 3.9.12 ('base')",
   "language": "python",
   "name": "python3"
  },
  "language_info": {
   "codemirror_mode": {
    "name": "ipython",
    "version": 3
   },
   "file_extension": ".py",
   "mimetype": "text/x-python",
   "name": "python",
   "nbconvert_exporter": "python",
   "pygments_lexer": "ipython3",
   "version": "3.9.12"
  },
  "orig_nbformat": 4,
  "vscode": {
   "interpreter": {
    "hash": "a7e4a4ad67805fe9a41fa6577eca6221596502998dd645ea07c8da3239bd21cd"
   }
  }
 },
 "nbformat": 4,
 "nbformat_minor": 2
}
