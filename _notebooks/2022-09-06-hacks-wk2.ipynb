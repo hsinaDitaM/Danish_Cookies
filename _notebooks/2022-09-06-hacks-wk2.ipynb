{
 "cells": [
  {
   "cell_type": "markdown",
   "metadata": {},
   "source": [
    "# Hacks  wk2\n",
    "> Week 2 Hacks.\n",
    "\n",
    "- toc: true \n",
    "- badges: true\n",
    "- comments: true\n",
    "- categories: [jupyter,hacks,wk2]\n",
    "- author: Mati Danish"
   ]
  },
  {
   "cell_type": "markdown",
   "metadata": {},
   "source": [
    "![Theme change 1](../images/29eaf44bdee81bbd6a1eeadfbe9719aad257a84137a79e57b5aaf8d932bfea9a.png)  \n",
    "\n",
    "![picture 2](../images/e266d4722863dfc9b06c1f922ab3c68ca883050df050d32725505909723e410d.png)  \n"
   ]
  },
  {
   "cell_type": "markdown",
   "metadata": {},
   "source": [
    "In the hacker theme, i noticed that this theme did not have a page section on top of the blog like minima. The Description and the time stamp were also spread out, unlike minima. "
   ]
  },
  {
   "cell_type": "markdown",
   "metadata": {},
   "source": [
    "-------"
   ]
  },
  {
   "cell_type": "markdown",
   "metadata": {},
   "source": [
    "![picture 1](../../images/c295e089db0f85938513e9094ba5721ce53ef3ab4cb7be59aaabdec60c5d76e9.png)  \n"
   ]
  },
  {
   "cell_type": "markdown",
   "metadata": {},
   "source": [
    "using the html code to add a box, i could easily organize my blogs, notebooks, hacks, and review tickets. I went from bottom to top because later in the trimester, it would be easier to accesses my things. "
   ]
  },
  {
   "cell_type": "markdown",
   "metadata": {},
   "source": [
    "----\n"
   ]
  },
  {
   "cell_type": "markdown",
   "metadata": {},
   "source": [
    "![picture 2](../../images/83304c3f666a5c980b9531f7a53372f5bfd648286a6d541313154d62b3e7be1d.png)  \n"
   ]
  },
  {
   "cell_type": "markdown",
   "metadata": {},
   "source": [
    "i added tags, such as: Hacks, notebooks, lessons, and blogs. "
   ]
  },
  {
   "cell_type": "markdown",
   "metadata": {},
   "source": [
    "---"
   ]
  },
  {
   "cell_type": "markdown",
   "metadata": {},
   "source": [
    "![picture 3](../../images/53819039df18aca4a7b2482bee3f2058c4d13c8475244aabc986e4149a507c53.png)  \n"
   ]
  },
  {
   "cell_type": "markdown",
   "metadata": {},
   "source": [
    "here, i added multiple external links on how to learn coding!"
   ]
  },
  {
   "cell_type": "markdown",
   "metadata": {},
   "source": [
    "----"
   ]
  },
  {
   "cell_type": "markdown",
   "metadata": {},
   "source": [
    "https://hsinaditam.github.io/Danish_Cookies/collegeboard/python_lists"
   ]
  },
  {
   "cell_type": "markdown",
   "metadata": {},
   "source": [
    "^ the list python hacks!"
   ]
  }
 ],
 "metadata": {
  "kernelspec": {
   "display_name": "Python 3.10.1 64-bit",
   "language": "python",
   "name": "python3"
  },
  "language_info": {
   "name": "python",
   "version": "3.10.1"
  },
  "orig_nbformat": 4,
  "vscode": {
   "interpreter": {
    "hash": "aee8b7b246df8f9039afb4144a1f6fd8d2ca17a180786b69acc140d282b71a49"
   }
  }
 },
 "nbformat": 4,
 "nbformat_minor": 2
}
