{
 "cells": [
  {
   "cell_type": "markdown",
   "metadata": {},
   "source": [
    "# Unit 3.1-3.2 Class Jupyter Notebook Period 4\n",
    "> Jupyter Notebook for the rest of the class to follow along with.\n",
    "- toc: true\n",
    "- badges: true\n",
    "- comments: true\n",
    "- categories: [jupyter, python]"
   ]
  },
  {
   "cell_type": "markdown",
   "metadata": {},
   "source": [
    "# Unit 3, Section 1.1: Data Types and Variables - Ederick\n",
    "\n",
    "## Essential Knowledge (College Board's Must Knows):\n",
    " * A variable is an abstraction inside a program that holds a value, where each variable has associated data storage that represents a single value at a time (However, if the value is a collection type such as a list, then the value can contain multiple values).\n",
    " * Variables typically have meaningful names that helps with the overall organization of the code and understanding of what is being represented by the variables\n",
    " * Some programming languages provide a variety of methods to represent data, which are referenced using variables 9Booleans, numbers, lists, and strings)\n",
    " * One form of a value is better suited for representation than antoher.\n",
    "\n",
    "## What is a Variable?\n",
    "\n",
    "A variable is an abstraction made inside a program that holds a value. These variables are used in code to refer to more comples values that the variable contains and makes the program code more organized and smoother to run.\n",
    "\n",
    "Variables can be seen as \"containers\" and each container has a name that holds what it is supposed to hold.\n",
    "In the following code, we can see that a variable has the value of \"Alex.\" How can we make the variable appear more organized in the code?"
   ]
  },
  {
   "cell_type": "code",
   "execution_count": 3,
   "metadata": {},
   "outputs": [
    {
     "name": "stdout",
     "output_type": "stream",
     "text": [
      "alex\n"
     ]
    }
   ],
   "source": [
    "x = \"alex\"\n",
    "print(x)"
   ]
  },
  {
   "cell_type": "markdown",
   "metadata": {},
   "source": [
    "## Choosing Variables\n",
    "When choosing variables, it is important to assign the variables name to something that correlates with what the function of the variable is supposed to do. For example, we do not want a variable that is supposed to hold a name be named \"age\" becaue it can be confusing and mistakes may be more prevalent.\n",
    "\n",
    "Example:"
   ]
  },
  {
   "cell_type": "code",
   "execution_count": 10,
   "metadata": {},
   "outputs": [
    {
     "name": "stdout",
     "output_type": "stream",
     "text": [
      "25 is Timmy\n"
     ]
    }
   ],
   "source": [
    "name = \"Timmy\"\n",
    "age = \"25\"\n",
    "\n",
    "print(name + \" is \" + age)"
   ]
  },
  {
   "cell_type": "markdown",
   "metadata": {},
   "source": [
    "- Notice how age is going to be seen when printing the code. That can lead to confusion\n",
    "\n",
    "## Data Types\n",
    "\n",
    "Variables have different data types that store specific kinds of data depending on what is being represented. Some examples are shown below:\n",
    "\n",
    "* integer (numbers)\n",
    "* string (or text/letters)\n",
    "* Boolean (True/False statements)\n",
    "\n",
    "These types of data types can be useful when trying to represent a value. For example, you would not want a variable meant to represent someone's name with an integer.\n",
    "\n",
    "Questions (College Board's Essential Knowledge):\n",
    "1. What exactly IS a variable?\n",
    "2. What is the best data type to represent someone's dog's name?\n",
    "3. Why is it important to give variables specific names before containing values?\n",
    "4. What is the best way to represent someone's phone number?\n",
    "\n",
    "Bonus (Not required but important to know): \n",
    "1. How can we update a variable's value\n",
    "2. What function is used to recieve a user's input?"
   ]
  },
  {
   "cell_type": "markdown",
   "metadata": {},
   "source": [
    "# Variables (3.1.2) - Noor "
   ]
  },
  {
   "cell_type": "markdown",
   "metadata": {},
   "source": [
    "## Learning objective for 3.1.2:\n",
    "Determine the value of a variable as a result of an assignment\n",
    "- done through looking at how we can use the assignment operator\n",
    "            \n",
    "## Note:\n",
    "Collegeboard uses <-- as the assignment operator\n",
    "- The assignment operator looks different for different types of coding languages\n",
    "A variable will take the most recent value assigned\n",
    "\n",
    "## How do you even store a value inside a variable?\n",
    "\n",
    "Let's use python for our example:\n",
    "   - In python, the assignment operator is the equal sign (=)\n",
    "   - In order to store a value inside a variable, we must:\n",
    "       - Give the variable a name\n",
    "       - place the assignment operator \n",
    "       - input the variable value\n",
    "    "
   ]
  },
  {
   "cell_type": "code",
   "execution_count": null,
   "metadata": {},
   "outputs": [],
   "source": [
    "# Imagine you just played a video game and you have a highscore of 100. How do you store that value (integer)?\n",
    "highscore = 100\n",
    "\n",
    "# How do you store a number like 3.72?\n",
    "money = 3.72\n",
    "\n",
    "# What about storing your username (string)?\n",
    "username = \"name\"\n",
    "\n",
    "# What if it is raining outside and you want to store that fact (boolean)?\n",
    "is_raining = True\n",
    "\n",
    "# What about a list of groceries? \n",
    "groceries = [\"eggs\", \"flour\", \"bread\", \"milk\"]"
   ]
  },
  {
   "cell_type": "markdown",
   "metadata": {},
   "source": [
    "## Lets Look at an Example:"
   ]
  },
  {
   "cell_type": "code",
   "execution_count": null,
   "metadata": {},
   "outputs": [],
   "source": [
    "x = 10\n",
    "y = 20\n",
    "z = 30\n",
    "x = y\n",
    "z = x\n",
    "\n",
    "# what do you think z will be?\n",
    "\n",
    "print(z)"
   ]
  },
  {
   "cell_type": "markdown",
   "metadata": {},
   "source": [
    "## Let's get a little more practical here\n",
    "Imagine that you are making a calendar and have just finished the html code that is needed:\n",
    "- You now want to be able to switch between the months of the year by using the \"next\" or \"prev\" buttons\n",
    "    - you will need to take the html elements and use them to your advantage\n",
    "        - but how?"
   ]
  },
  {
   "cell_type": "code",
   "execution_count": 1,
   "metadata": {
    "vscode": {
     "languageId": "html"
    }
   },
   "outputs": [
    {
     "ename": "SyntaxError",
     "evalue": "unterminated string literal (detected at line 14) (960531562.py, line 14)",
     "output_type": "error",
     "traceback": [
      "\u001b[0;36m  Input \u001b[0;32mIn [1]\u001b[0;36m\u001b[0m\n\u001b[0;31m    // this way we don't need to type out as much\u001b[0m\n\u001b[0m                      ^\u001b[0m\n\u001b[0;31mSyntaxError\u001b[0m\u001b[0;31m:\u001b[0m unterminated string literal (detected at line 14)\n"
     ]
    }
   ],
   "source": [
    "<body>\n",
    "<div class=\"container\">\n",
    "    <div class=\"calendar\">\n",
    "        <div class=\"month\">\n",
    "            <button class=\"prev\">Prev</button>\n",
    "            <button class=\"next\">Next</button>\n",
    "        </div>\n",
    "    </div>\n",
    "</div>\n",
    "\n",
    "\n",
    "<script>\n",
    "    // to make our lives a little easier, we can store the div next and prev into variables\n",
    "    // this way we don't need to type out as much \n",
    "    // Note: You CAN just add the event listener to document.querySelector(.next) or prev and get the same desired outcome \n",
    "    \n",
    "    nextButton = document.querySelector(.next)\n",
    "    prevButton = document.querySelector(.prev)\n",
    "\n",
    "    // we can go make the buttons functional by adding an addeventlistner to them\n",
    "\n",
    "</script>"
   ]
  },
  {
   "cell_type": "markdown",
   "metadata": {},
   "source": [
    "## Recap:\n",
    "- We learned what is a assignment operator\n",
    "- We learned how to use the assignment operator\n",
    "- We learned how to store a value inside a variable using the assignment operator\n",
    "- We experimented with a few examples \n",
    "\n",
    "## Hacks: \n",
    "Answer these:\n",
    "- In your **own** words, briefly explain by writing down what an assignment operator is\n",
    "- In Collegeboard pseudocode, what symbol is used to assign values to variables?\n",
    "- A variable, x, is initially given a value of 15. Later on, the value for x is changed to 22. If you print x, would the command display 15 or 22?\n",
    "\n",
    "## Hacks:\n",
    "Copy the all the html code into a markdown file and run your local server. You will then see a decimal to binary converter near the html code. The problem is that it is not converting the decimal to binary. This is because the variables are not defined properly and it is your job to use the information learned today to fix the converter. **Don't change the css**\n",
    "\n",
    "### Bonus (optional):\n",
    "There's more than one way to define the variable. List two ways to do it.\n"
   ]
  },
  {
   "cell_type": "markdown",
   "metadata": {},
   "source": [
    "### Rubric\n",
    "\n",
    "#### For .15:\n",
    "- Student has followed directions properly and has the converter working\n",
    "\n",
    "#### For .18:\n",
    "- Student has completed some of the bonus material alongside requirement for 2.7\n",
    "\n",
    "#### For .20:\n",
    "- Student has completed all of the material, answered thoughtfully, and met requirements for 2.7"
   ]
  },
  {
   "cell_type": "markdown",
   "metadata": {},
   "source": [
    "# List and Strings Using Variables- Nathan\n",
    "\n",
    "## Strings\n",
    "Strings is a series of characters (numbers, letters, etc), one example of a string is your name or your id because strings can contain both numbers and letters.\n",
    "\n",
    "The following are all examples of strings being used in code, in this case, within print functions.\n"
   ]
  },
  {
   "cell_type": "markdown",
   "metadata": {},
   "source": [
    "![]({{site.baseurl}}/images/ncrubric.png \"https://github.com/LiavB2/ominicient-lavebear\")"
   ]
  },
  {
   "cell_type": "code",
   "execution_count": 5,
   "metadata": {},
   "outputs": [
    {
     "name": "stdout",
     "output_type": "stream",
     "text": [
      "hello world\n",
      "hello\n"
     ]
    }
   ],
   "source": [
    "print(\"hello world\")\n",
    "print('hello')"
   ]
  },
  {
   "cell_type": "markdown",
   "metadata": {},
   "source": [
    "## Lists\n",
    "Lists are sequences of elements with each element being a variable. An example of a list can be the names of the students in this classroom. \n",
    "\n",
    "### Features of Lists\n",
    "* The elements within the list can be accessed by index.\n",
    "* Can store various elements\n",
    "* The list is in order\n",
    "\n",
    "## Example of a list"
   ]
  },
  {
   "cell_type": "code",
   "execution_count": 8,
   "metadata": {},
   "outputs": [
    {
     "name": "stdout",
     "output_type": "stream",
     "text": [
      "['cranberry pie', 'casserole', 'mashed potatoes', 'turkey']\n"
     ]
    }
   ],
   "source": [
    "thanksgivingList = [\"cranberry pie\", \"casserole\", \"mashed potatoes\", \"turkey\"]\n",
    "print(thanksgivingList)"
   ]
  },
  {
   "cell_type": "markdown",
   "metadata": {},
   "source": [
    "## List Index\n",
    "An index is an element of a string. Indices typically start with 0, but Collegeboard has the index start at 1."
   ]
  },
  {
   "cell_type": "code",
   "execution_count": 9,
   "metadata": {},
   "outputs": [
    {
     "name": "stdout",
     "output_type": "stream",
     "text": [
      "casserole\n",
      "casserole\n"
     ]
    }
   ],
   "source": [
    "print(thanksgivingList[1]) #In this case, the index starts at 0, but in collegeboard, the index starts at 1\n",
    "print(thanksgivingList[-3]) #Python can index from the end, in this case, \"turkey\" would be index -1 and 3. "
   ]
  },
  {
   "cell_type": "markdown",
   "metadata": {},
   "source": [
    "## Hacks\n",
    "\n",
    "## Questions\n",
    "* What is a list?\n",
    "* What is an element\n",
    "* What is an easy way to reference the elements in a list or string?\n",
    "* What is an example of a string?\n",
    "\n",
    "## Hacks\n",
    "* Create a list with indices \n",
    "* Index a part of the list that you created.\n",
    "* Try to index from the end \n",
    "\n",
    "### Create an index of your favorite foods\n",
    "Tips: Index starts at 1, Strings are ordered sequences of characters\n",
    "\n",
    "Extra work: Try to create an index that lists your favorite food and print the element at index 3.\n",
    "More work: Create a list of your favorite foods and create an index to access them.\n",
    "\n",
    "marks = [\"food1\"]\n",
    "\n",
    "### Rubric \n",
    "\n",
    "#### Creating a list\n",
    "- Shows great knowledge in creating lists\n",
    "\n",
    "#### Indexing\n",
    "- Is able to index both from the start and from the end"
   ]
  },
  {
   "cell_type": "markdown",
   "metadata": {},
   "source": [
    "# Data Abstraction with Lists - Steven\n",
    "\n",
    "## Data abstraction can be created with lists.\n",
    "- Lists bundle together multiple elements and/or variables under one name are not defined with specified lengths. \n",
    "- The variables that are stored in a list do not have to be limited to one kind of variable. \n",
    "- The user does not need to know how the list stores data (this gives way for data abstraction).\n",
    "\n",
    "## In the code below, the logic itself works with a list, but the code abstracts it into a sequence of bits in a string (as seen in the input and output). To make this work, the splitbits lists is created and processed. At the end of the code, the result is outputted as a string rather than a list (abstraction)."
   ]
  },
  {
   "cell_type": "code",
   "execution_count": 4,
   "metadata": {},
   "outputs": [
    {
     "name": "stdout",
     "output_type": "stream",
     "text": [
      "01\n"
     ]
    }
   ],
   "source": [
    "# The following code asks for an input of bits to invert and inverts them\n",
    "\n",
    "bits = input(\"Input a sequence of bits to invert: \")\n",
    "\n",
    "splitbits = list(bits)\n",
    "\n",
    "for i in range(len(splitbits)):\n",
    "    if splitbits[i] == '0':\n",
    "        splitbits[i] = '1'\n",
    "    elif splitbits[i] == '1':\n",
    "        splitbits[i] = '0'\n",
    "\n",
    "print(\"\".join(splitbits))"
   ]
  },
  {
   "cell_type": "markdown",
   "metadata": {},
   "source": [
    "## Hacks\n",
    "\n",
    "- The following code is incomplete. Its intended purpose is to increase three numbers, all of which ask for user input, by an amount specified the user. The input code is abstracted, but the actual logic isn't connected to the abstraction."
   ]
  },
  {
   "cell_type": "code",
   "execution_count": 5,
   "metadata": {},
   "outputs": [
    {
     "ename": "NameError",
     "evalue": "name 'numlist' is not defined",
     "output_type": "error",
     "traceback": [
      "\u001b[0;31m---------------------------------------------------------------------------\u001b[0m",
      "\u001b[0;31mNameError\u001b[0m                                 Traceback (most recent call last)",
      "\u001b[1;32m/Users/matidanish/vscode/Danish_Cookies/_notebooks/2022-11-26-LessonPlanNB.ipynb Cell 27\u001b[0m in \u001b[0;36m<cell line: 12>\u001b[0;34m()\u001b[0m\n\u001b[1;32m      <a href='vscode-notebook-cell:/Users/matidanish/vscode/Danish_Cookies/_notebooks/2022-11-26-LessonPlanNB.ipynb#X35sZmlsZQ%3D%3D?line=3'>4</a>\u001b[0m add\u001b[39m=\u001b[39m\u001b[39minput\u001b[39m(\u001b[39m\"\u001b[39m\u001b[39mHow much would you like to add? \u001b[39m\u001b[39m\"\u001b[39m)\n\u001b[1;32m      <a href='vscode-notebook-cell:/Users/matidanish/vscode/Danish_Cookies/_notebooks/2022-11-26-LessonPlanNB.ipynb#X35sZmlsZQ%3D%3D?line=5'>6</a>\u001b[0m \u001b[39m# Add code in the space below\u001b[39;00m\n\u001b[1;32m      <a href='vscode-notebook-cell:/Users/matidanish/vscode/Danish_Cookies/_notebooks/2022-11-26-LessonPlanNB.ipynb#X35sZmlsZQ%3D%3D?line=6'>7</a>\u001b[0m \n\u001b[1;32m      <a href='vscode-notebook-cell:/Users/matidanish/vscode/Danish_Cookies/_notebooks/2022-11-26-LessonPlanNB.ipynb#X35sZmlsZQ%3D%3D?line=7'>8</a>\u001b[0m \n\u001b[1;32m      <a href='vscode-notebook-cell:/Users/matidanish/vscode/Danish_Cookies/_notebooks/2022-11-26-LessonPlanNB.ipynb#X35sZmlsZQ%3D%3D?line=8'>9</a>\u001b[0m \n\u001b[1;32m     <a href='vscode-notebook-cell:/Users/matidanish/vscode/Danish_Cookies/_notebooks/2022-11-26-LessonPlanNB.ipynb#X35sZmlsZQ%3D%3D?line=9'>10</a>\u001b[0m \u001b[39m# The following is the code that adds the inputted addend to the other numbers. It is hidden from the user.\u001b[39;00m\n\u001b[0;32m---> <a href='vscode-notebook-cell:/Users/matidanish/vscode/Danish_Cookies/_notebooks/2022-11-26-LessonPlanNB.ipynb#X35sZmlsZQ%3D%3D?line=11'>12</a>\u001b[0m \u001b[39mfor\u001b[39;00m i \u001b[39min\u001b[39;00m numlist:\n\u001b[1;32m     <a href='vscode-notebook-cell:/Users/matidanish/vscode/Danish_Cookies/_notebooks/2022-11-26-LessonPlanNB.ipynb#X35sZmlsZQ%3D%3D?line=12'>13</a>\u001b[0m     numlist[i \u001b[39m-\u001b[39m\u001b[39m1\u001b[39m] \u001b[39m+\u001b[39m\u001b[39m=\u001b[39m \u001b[39mint\u001b[39m(add)\n\u001b[1;32m     <a href='vscode-notebook-cell:/Users/matidanish/vscode/Danish_Cookies/_notebooks/2022-11-26-LessonPlanNB.ipynb#X35sZmlsZQ%3D%3D?line=14'>15</a>\u001b[0m \u001b[39mprint\u001b[39m(numlist)\n",
      "\u001b[0;31mNameError\u001b[0m: name 'numlist' is not defined"
     ]
    }
   ],
   "source": [
    "num1=input(\"Input a number. \")\n",
    "num2=input(\"Input a number. \")\n",
    "num3=input(\"Input a number. \")\n",
    "add=input(\"How much would you like to add? \")\n",
    "\n",
    "# Add code in the space below\n",
    "\n",
    "\n",
    "\n",
    "# The following is the code that adds the inputted addend to the other numbers. It is hidden from the user.\n",
    "\n",
    "for i in numlist:\n",
    "    numlist[i -1] += int(add)\n",
    "\n",
    "print(numlist)"
   ]
  },
  {
   "cell_type": "markdown",
   "metadata": {},
   "source": [
    "### The following provides a rubric for my hacks (scored out of 0.20)\n",
    "\n",
    "- 0.20 - Fully functioning data abstraction with a list\n",
    "- 0.10 - not functioning, but attempt at making a list\n",
    "- 0.00 - not functioning, no evidence of attempt based upon the guidelines"
   ]
  },
  {
   "cell_type": "markdown",
   "metadata": {},
   "source": [
    "# Managing Complexity with lists - Liav \n",
    "\n",
    "\n",
    "## Long and slow way\n",
    "- By now, everyone should know the \"long and slow way\" to print a list of something in python\n",
    "    - It is easy to just assign a value to a single variable\n",
    "    - This method is displayed in this example with test scores:"
   ]
  },
  {
   "cell_type": "code",
   "execution_count": 6,
   "metadata": {},
   "outputs": [
    {
     "name": "stdout",
     "output_type": "stream",
     "text": [
      "95 24 87 92\n"
     ]
    }
   ],
   "source": [
    "score1 = 95\n",
    "score2 = 24\n",
    "score3 = 87\n",
    "score4 = 92\n",
    "print(score1, score2, score3, score4)"
   ]
  },
  {
   "cell_type": "markdown",
   "metadata": {},
   "source": [
    "- As you can see, each score is assigned to its relative variable such as \"score1 = 95\" and then you just print each variable.\n",
    "- However you can make the code segment faster, easier to read, and more efficient..."
   ]
  },
  {
   "cell_type": "markdown",
   "metadata": {},
   "source": [
    "## Assinging values to one variable\n",
    "- Use square brackets \"[]\" to store the values of a certain variable, then you can simply print the variable to output your desired list:"
   ]
  },
  {
   "cell_type": "code",
   "execution_count": 7,
   "metadata": {},
   "outputs": [
    {
     "name": "stdout",
     "output_type": "stream",
     "text": [
      "[95, 24, 87, 92]\n"
     ]
    }
   ],
   "source": [
    "scores = [95, 24, 87, 92]\n",
    "print(scores)"
   ]
  },
  {
   "cell_type": "markdown",
   "metadata": {},
   "source": [
    "- Now instead of having a difference variable and new line of code for each value, the list is simply displayed by assigning each value to a single value that you can now print.\n",
    "\n",
    "\n",
    "## How lists manage complexity of a program\n",
    "- Simplification\n",
    "    - It is much simpler, faster, and easier to code lists this way\n",
    "    - Makes the code segment much easier to read\n",
    "\n",
    "- Variables\n",
    "    - You do not need as many variables, because you can just assign all corresponding values to a single variable\n",
    "    - To change a value you don't have to edit/add/remove an entire variable\n"
   ]
  },
  {
   "cell_type": "markdown",
   "metadata": {},
   "source": [
    "## Python Quiz\n",
    "- Now everyone should take this short python quiz and screenshot your score."
   ]
  },
  {
   "cell_type": "code",
   "execution_count": 8,
   "metadata": {},
   "outputs": [
    {
     "name": "stdout",
     "output_type": "stream",
     "text": [
      "Hello, matidanish running /usr/local/bin/python3\n",
      "You will be asked 4 questions.\n",
      "Question: Are you ready to take a test?\n"
     ]
    }
   ],
   "source": [
    "import getpass, sys\n",
    "\n",
    "def question_with_response(prompt):\n",
    "    print(\"Question: \" + prompt)\n",
    "    msg = input()\n",
    "    return msg\n",
    "\n",
    "questions = 4\n",
    "correct = 0\n",
    "\n",
    "print('Hello, ' + getpass.getuser() + \" running \" + sys.executable)\n",
    "print(\"You will be asked \" + str(questions) + \" questions.\")\n",
    "question_with_response(\"Are you ready to take a test?\")\n",
    "\n",
    "rsp = question_with_response(\"The purpose of lists and dictionaries are to manage the ____ of a program\")\n",
    "if rsp == \"complexity\":\n",
    "    print(rsp + \" is correct!\")\n",
    "    correct += 1\n",
    "else:\n",
    "    print(rsp + \" is incorrect!\")\n",
    "\n",
    "rsp = question_with_response(\"Lists are a form of data ______\")\n",
    "if rsp == \"abstraction\":\n",
    "    print(rsp + \" is correct!\")\n",
    "    correct += 1\n",
    "else:\n",
    "    print(rsp + \" is incorrect!\")\n",
    "\n",
    "rsp = question_with_response(\"Which brackets are used to assign values to a variable to make a list?\")\n",
    "if rsp == \"[]\":\n",
    "    print(rsp + \" is correct!\")\n",
    "    correct += 1\n",
    "else:\n",
    "    print(rsp + \" is incorrect!\") \n",
    "\n",
    "print(getpass.getuser() + \" you scored \" + str(correct) +\"/\" + str(questions))"
   ]
  },
  {
   "cell_type": "markdown",
   "metadata": {},
   "source": [
    "## Simplify Foods List \n",
    "- Now simplify this foods list using what you have learned"
   ]
  },
  {
   "cell_type": "code",
   "execution_count": null,
   "metadata": {},
   "outputs": [],
   "source": [
    "food1 = \"pizza\" \n",
    "food2 = \"hot dog\" \n",
    "food3 = \"sushi\"\n",
    "food4 = \"strawberry\"\n",
    "food5 = \"sandwich\"\n",
    "print(food1, food2, food3, food4, food5)"
   ]
  },
  {
   "cell_type": "markdown",
   "metadata": {},
   "source": [
    "## Hacks\n",
    "- On a single markdown file:\n",
    "    - Insert a screenshot of your score on the python quiz\n",
    "    - Insert a screenshot of your simplifying of the food list\n",
    "    - Why are using lists better for a program, rather than writing out each line of code?\n",
    "    - Make your own list the \"long and slow way\" then manage the complexity of the list\n",
    "\n",
    "## Rubric\n",
    "- In ordere to earn a .20/.20 you must\n",
    "    - On a markdown post:\n",
    "    - make an attempt at the python quiz\n",
    "    - Successfully simplify the food list\n",
    "    - Answer the question in detail\n",
    "    - Provide evidence of your own list that you coded"
   ]
  }
 ],
 "metadata": {
  "kernelspec": {
   "display_name": "Python 3.10.1 64-bit",
   "language": "python",
   "name": "python3"
  },
  "language_info": {
   "codemirror_mode": {
    "name": "ipython",
    "version": 3
   },
   "file_extension": ".py",
   "mimetype": "text/x-python",
   "name": "python",
   "nbconvert_exporter": "python",
   "pygments_lexer": "ipython3",
   "version": "3.10.1"
  },
  "orig_nbformat": 4,
  "vscode": {
   "interpreter": {
    "hash": "aee8b7b246df8f9039afb4144a1f6fd8d2ca17a180786b69acc140d282b71a49"
   }
  }
 },
 "nbformat": 4,
 "nbformat_minor": 2
}
