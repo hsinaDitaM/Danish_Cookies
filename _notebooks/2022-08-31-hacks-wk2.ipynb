{
 "cells": [
  {
   "cell_type": "markdown",
   "metadata": {},
   "source": [
    "# Hacks  wk2\n",
    "> Week 2 Hacks.\n",
    "\n",
    "- toc: true \n",
    "- badges: true\n",
    "- comments: true\n",
    "- categories: [jupyter,hacks,wk2]\n",
    "- author: Mati Danish"
   ]
  },
  {
   "cell_type": "markdown",
   "metadata": {},
   "source": [
    "![Theme change 1](../images/29eaf44bdee81bbd6a1eeadfbe9719aad257a84137a79e57b5aaf8d932bfea9a.png)  \n",
    "\n",
    "![picture 2](../images/e266d4722863dfc9b06c1f922ab3c68ca883050df050d32725505909723e410d.png)  \n"
   ]
  },
  {
   "cell_type": "markdown",
   "metadata": {},
   "source": [
    "In the hacker theme, i noticed that this theme did not have a page section on top of the blog like minima. The Description and the time stamp were also spread out, unlike minima. "
   ]
  },
  {
   "cell_type": "markdown",
   "metadata": {},
   "source": [
    "-------"
   ]
  },
  {
   "cell_type": "markdown",
   "metadata": {},
   "source": [
    "![picture 1](../../images/a39126f2440c9a866dc53ba897d89097ffad5da3969d6ce1963603e7003a22af.png)  \n"
   ]
  },
  {
   "cell_type": "markdown",
   "metadata": {},
   "source": [
    "using the html code to add a box, i could easily organize my blogs, notebooks, hacks, and review tickets. I went from bottom to top because later in the trimester, it would be easier to accesses my things. "
   ]
  },
  {
   "cell_type": "markdown",
   "metadata": {},
   "source": [
    "----\n"
   ]
  },
  {
   "cell_type": "markdown",
   "metadata": {},
   "source": [
    "![picture 2](../../images/f7756be83123adcb9e2de2997f8132c94875bcffad27d89848145eff8688fce6.png)  \n"
   ]
  },
  {
   "cell_type": "markdown",
   "metadata": {},
   "source": [
    "i added tags, such as: Hacks, "
   ]
  }
 ],
 "metadata": {
  "kernelspec": {
   "display_name": "Python 3.10.1 64-bit",
   "language": "python",
   "name": "python3"
  },
  "language_info": {
   "name": "python",
   "version": "3.10.1"
  },
  "orig_nbformat": 4,
  "vscode": {
   "interpreter": {
    "hash": "aee8b7b246df8f9039afb4144a1f6fd8d2ca17a180786b69acc140d282b71a49"
   }
  }
 },
 "nbformat": 4,
 "nbformat_minor": 2
}
