{
 "cells": [
  {
   "attachments": {},
   "cell_type": "markdown",
   "metadata": {},
   "source": [
    "# Unit 3.17-3.18 Group Lesson Period 4 hacks\n",
    "> Jupyter Notebook for the rest of the class to follow along with.\n",
    "\n",
    "- title: Unit 3.17-3.18 Group Lesson Period 4\n",
    "- toc: true\n",
    "- badges: true\n",
    "- comments: true\n",
    "\n"
   ]
  },
  {
   "cell_type": "code",
   "execution_count": 1,
   "metadata": {},
   "outputs": [
    {
     "name": "stdout",
     "output_type": "stream",
     "text": [
      "Sequence: 463 1390 695 2086 1043 3130 1565 4696 2348 1174 587 1762 881 2644 1322 661 1984 992 496 248 124 62 31 94 47 142 71 214 107 322 161 484 242 121 364 182 91 274 137 412 206 103 310 155 466 233 700 350 175 526 263 790 395 1186 593 1780 890 445 1336 668 334 167 502 251 754 377 1132 566 283 850 425 1276 638 319 958 479 1438 719 2158 1079 3238 1619 4858 2429 7288 3644 1822 911 2734 1367 4102 2051 6154 3077 9232 4616 2308 1154 577 1732 866 433 1300 650 325 976 488 244 122 61 184 92 46 23 70 35 106 53 160 80 40 20 10 5 16 8 4 2 1Please enter a number: \n",
      "Number of iterations: 6\n"
     ]
    }
   ],
   "source": [
    "def collatz(i):\n",
    "    while i > 1:\n",
    "        print(i, end=' ')\n",
    "        if (i % 2):\n",
    "            # i is odd\n",
    "            i = 3*i + 1\n",
    "        else:\n",
    "            # i is even\n",
    "            i = i//2\n",
    "    print(1, end='')\n",
    " \n",
    " \n",
    "i = int(input('Enter i: '))\n",
    "print('Sequence: ', end='')\n",
    "collatz(i)\n",
    "\n",
    "def collatz(i):\n",
    "    while i != 1:\n",
    "        if i % 2 > 0:\n",
    "             i =((3 * i) + 1)\n",
    "             list_.append(i)\n",
    "        else:\n",
    "            i = (i / 2)\n",
    "            list_.append(i)\n",
    "    return list_\n",
    "\n",
    "\n",
    "print('Please enter a number: ', end='')\n",
    "while True:\n",
    "    try:\n",
    "        i = int(input())\n",
    "        list_ = [i]\n",
    "        break\n",
    "    except ValueError:\n",
    "        print('Invaid selection, try again: ', end='')\n",
    "\n",
    "\n",
    "l = collatz(i)\n",
    "\n",
    "print('')\n",
    "print('Number of iterations:', len(l) - 1)"
   ]
  },
  {
   "attachments": {},
   "cell_type": "markdown",
   "metadata": {},
   "source": [
    "## Hacks/assignment\n",
    "\n",
    "- Write 2 algorithms: One is efficent and one is innefficent, then explain why one is efficent while the other isn't. (.25)\n",
    "- Explain why one algorithm is more efficient than another using mathematical and/or formal reasoning. (.25)\n",
    "- use variables, if statements, and loops to program your algorithm and upload to jupyter notebooks/ fastpages. (.25)"
   ]
  },
  {
   "cell_type": "code",
   "execution_count": null,
   "metadata": {},
   "outputs": [],
   "source": [
    "#inneficent algorithim (didnt want to add lists.)\n",
    "\n",
    "maxValue(numbers):\n",
    "  max = numbers[0]\n",
    "  for i in range(1, len(numbers)):\n",
    "    if numbers[i] > max:\n",
    "      max = numbers[i]\n",
    "  return max\n"
   ]
  },
  {
   "cell_type": "code",
   "execution_count": null,
   "metadata": {},
   "outputs": [],
   "source": [
    "#efficent algorithim (didnt want to add lists.)\n",
    "\n",
    "maxValue(numbers):\n",
    "  max = numbers[0]\n",
    "  for i in range(1, len(numbers)):\n",
    "    for j in range(1, len(numbers)):\n",
    "      if numbers[i] > numbers[j] and numbers[i] > max:\n",
    "        max = numbers[i]\n",
    "  return max\n"
   ]
  },
  {
   "attachments": {},
   "cell_type": "markdown",
   "metadata": {},
   "source": [
    "if we have an algorithm that has a time complexity of O(n), this means that the running time of the algorithm will increase linearly with the size of the input. This is considered very efficient because it means that the algorithm will be able to handle large inputs without taking too long to run. On the other hand, if we have an algorithm with a time complexity of O(n^2), this means that the running time of the algorithm will increase exponentially with the size of the input. This is considered very inefficient because it means that the algorithm will take a long time to run on large inputs, and it may not be able to handle very large inputs at all."
   ]
  },
  {
   "cell_type": "code",
   "execution_count": 5,
   "metadata": {},
   "outputs": [
    {
     "name": "stdout",
     "output_type": "stream",
     "text": [
      "15\n"
     ]
    }
   ],
   "source": [
    "result = 0\n",
    "\n",
    "numbers = [1, 2, 3, 4, 5]\n",
    "\n",
    "for number in numbers:\n",
    "    if number > 0:\n",
    "        result += number\n",
    "\n",
    " \n",
    "print(result)\n"
   ]
  }
 ],
 "metadata": {
  "kernelspec": {
   "display_name": "Python 3",
   "language": "python",
   "name": "python3"
  },
  "language_info": {
   "codemirror_mode": {
    "name": "ipython",
    "version": 3
   },
   "file_extension": ".py",
   "mimetype": "text/x-python",
   "name": "python",
   "nbconvert_exporter": "python",
   "pygments_lexer": "ipython3",
   "version": "3.10.1 (v3.10.1:2cd268a3a9, Dec  6 2021, 14:28:59) [Clang 13.0.0 (clang-1300.0.29.3)]"
  },
  "orig_nbformat": 4,
  "vscode": {
   "interpreter": {
    "hash": "aee8b7b246df8f9039afb4144a1f6fd8d2ca17a180786b69acc140d282b71a49"
   }
  }
 },
 "nbformat": 4,
 "nbformat_minor": 2
}
