{
 "cells": [
  {
   "attachments": {},
   "cell_type": "markdown",
   "metadata": {},
   "source": [
    "#  Simulation Hacks\n",
    "- toc: true\n",
    "- image: /images/python.png\n",
    "- categories: []\n",
    "- type: ap"
   ]
  },
  {
   "attachments": {},
   "cell_type": "markdown",
   "metadata": {},
   "source": [
    "# Give an example of iteration."
   ]
  },
  {
   "cell_type": "code",
   "execution_count": 1,
   "metadata": {},
   "outputs": [
    {
     "name": "stdout",
     "output_type": "stream",
     "text": [
      "1\n",
      "2\n",
      "3\n",
      "4\n",
      "5\n",
      "6\n",
      "7\n",
      "8\n",
      "9\n",
      "10\n"
     ]
    }
   ],
   "source": [
    "for i in range(1, 11):\n",
    "    print(i)\n"
   ]
  },
  {
   "attachments": {},
   "cell_type": "markdown",
   "metadata": {},
   "source": [
    "# What is the difference between a for loop and while loop? That is, when would you use a for loop and when would you use a while loop?\n",
    "\n",
    "The main difference between a for loop and a while loop is that a for loop is typically used when you know the number of times you want to execute a block of code, while a while loop is used when you want to execute a block of code repeatedly until a certain condition is met.\n",
    "\n",
    "# In the APCSP AP exam, what number do indexes start with? important to know\n",
    "\n",
    "indexes start at 0. This means that the first element in an array, list, or other data structure has an index of 0, the second element has an index of 1, and so on.\n",
    "\n",
    "# Are dictionaries and lists mutable?\n",
    "\n",
    "Yes, both dictionaries and lists are mutable in Python.\n",
    "\n",
    "\n",
    "\n",
    "\n",
    "\n",
    "---\n",
    "\n",
    "\n",
    "# Explain an example of something you could simulate.\n",
    "\n",
    "One thing that could be simulated is the performance of a wind farm. Wind farms consist of multiple wind turbines that generate electricity by harnessing wind energy. To simulate the performance of a wind farm, we could use data such as the wind speed and direction, the size and type of turbines, and the capacity of the electrical grid to model how the wind turbines would generate electricity under different conditions.\n",
    "\n",
    "\n",
    "# Why are simulations useful and important?\n",
    "\n",
    "Simulations can be used to model a wide range of phenomena, such as weather patterns, traffic flow, and the spread of infectious diseases. They can also be used to simulate the behavior of financial markets, electronic devices, and ecosystems. Additionally, simulations can be used to optimize the performance of systems and processes, as well as to train people in a safe and controlled environment. Finally, simulations can be used to forecast potential outcomes and inform decision-making about the future.\n",
    "\n",
    "\n",
    "\n",
    "\n",
    "# Create a visual or written description. Objective is to compare lists and dictionaries.\n",
    "\n",
    "\n",
    "Lists and dictionaries are two of the most commonly used data structures in Python. While they may appear similar at first glance, there are important differences between them that make them suited for different tasks.\n",
    "\n",
    "A list is an ordered collection of elements, where each element is identified by its position or index within the list. Lists are created using square brackets [], and elements are separated by commas. Lists are often used to store a collection of similar objects, such as a list of numbers or a list of names.\n",
    "\n",
    "A dictionary, on the other hand, is an unordered collection of key-value pairs, where each key is associated with a value. Dictionaries are created using curly braces {}, with each key-value pair separated by a colon. Dictionaries are often used to store information that can be looked up by a unique key, such as a dictionary of words and their definitions.\n",
    "\n",
    "One important difference between lists and dictionaries is that lists are indexed by their position, while dictionaries are indexed by keys. This means that accessing elements in a list is based on their position, while accessing elements in a dictionary is based on their keys. Additionally, while lists can contain duplicate elements, each key in a dictionary must be unique.\n",
    "\n",
    "In terms of performance, accessing an element in a list by its position is faster than accessing an element in a dictionary by its key. However, dictionaries are more efficient than lists when it comes to looking up elements by their key.\n",
    "\n",
    "\n",
    "\n",
    "\n",
    "\n"
   ]
  },
  {
   "cell_type": "code",
   "execution_count": 2,
   "metadata": {},
   "outputs": [
    {
     "name": "stdout",
     "output_type": "stream",
     "text": [
      "Countries sorted by population in ascending order using bubble sort:\n",
      "{'China': 130, 'India': 146, 'United States': 165, 'Indonesia': 206, 'Pakistan': 213, 'Brazil': 225, 'Nigeria': 270, 'Bangladesh': 329, 'Russia': 1366, 'Mexico': 1393}\n",
      "Countries sorted by population in descending order using merge sort:\n",
      "{'China': 1393, 'India': 1366, 'United States': 329, 'Indonesia': 270, 'Pakistan': 225, 'Brazil': 213, 'Nigeria': 206, 'Bangladesh': 165, 'Russia': 146, 'Mexico': 130}\n"
     ]
    }
   ],
   "source": [
    "# create a dictionary of countries and their populations (in millions)\n",
    "countries = {\n",
    "    \"China\": 1393,\n",
    "    \"India\": 1366,\n",
    "    \"United States\": 329,\n",
    "    \"Indonesia\": 270,\n",
    "    \"Pakistan\": 225,\n",
    "    \"Brazil\": 213,\n",
    "    \"Nigeria\": 206,\n",
    "    \"Bangladesh\": 165,\n",
    "    \"Russia\": 146,\n",
    "    \"Mexico\": 130\n",
    "}\n",
    "\n",
    "# sort the countries by population in ascending order using bubble sort\n",
    "def bubble_sort(dict):\n",
    "    sorted_dict = dict.copy()\n",
    "    for i in range(len(sorted_dict)-1):\n",
    "        for j in range(len(sorted_dict)-i-1):\n",
    "            if sorted_dict[list(sorted_dict.keys())[j]] > sorted_dict[list(sorted_dict.keys())[j+1]]:\n",
    "                sorted_dict[list(sorted_dict.keys())[j]], sorted_dict[list(sorted_dict.keys())[j+1]] = sorted_dict[list(sorted_dict.keys())[j+1]], sorted_dict[list(sorted_dict.keys())[j]]\n",
    "    return sorted_dict\n",
    "\n",
    "print(\"Countries sorted by population in ascending order using bubble sort:\")\n",
    "print(bubble_sort(countries))\n",
    "\n",
    "# sort the countries by population in descending order using merge sort\n",
    "def merge_sort(dict):\n",
    "    if len(dict) <= 1:\n",
    "        return dict\n",
    "    else:\n",
    "        mid = len(dict)//2\n",
    "        left_dict = dict.copy()\n",
    "        right_dict = dict.copy()\n",
    "        for i in range(mid):\n",
    "            del right_dict[list(right_dict.keys())[0]]\n",
    "        for i in range(mid, len(left_dict)):\n",
    "            del left_dict[list(left_dict.keys())[mid]]\n",
    "        left_dict = merge_sort(left_dict)\n",
    "        right_dict = merge_sort(right_dict)\n",
    "        return merge(left_dict, right_dict)\n",
    "\n",
    "def merge(left, right):\n",
    "    result = {}\n",
    "    while len(left) > 0 and len(right) > 0:\n",
    "        if left[list(left.keys())[0]] >= right[list(right.keys())[0]]:\n",
    "            result[list(left.keys())[0]] = left[list(left.keys())[0]]\n",
    "            del left[list(left.keys())[0]]\n",
    "        else:\n",
    "            result[list(right.keys())[0]] = right[list(right.keys())[0]]\n",
    "            del right[list(right.keys())[0]]\n",
    "    while len(left) > 0:\n",
    "        result[list(left.keys())[0]] = left[list(left.keys())[0]]\n",
    "        del left[list(left.keys())[0]]\n",
    "    while len(right) > 0:\n",
    "        result[list(right.keys())[0]] = right[list(right.keys())[0]]\n",
    "        del right[list(right.keys())[0]]\n",
    "    return result\n",
    "\n",
    "print(\"Countries sorted by population in descending order using merge sort:\")\n",
    "print(merge_sort(countries))\n"
   ]
  },
  {
   "attachments": {},
   "cell_type": "markdown",
   "metadata": {},
   "source": [
    "# simulation"
   ]
  },
  {
   "cell_type": "code",
   "execution_count": 23,
   "metadata": {},
   "outputs": [
    {
     "name": "stdout",
     "output_type": "stream",
     "text": [
      "Player 1 has 10 armies and Player 2 has 10 armies.\n",
      "Player 1 attacks with 3 armies and defends with 2 armies.\n",
      "Player 2 attacks with 3 armies and defends with 1 armies.\n",
      "Player 1 wins!\n"
     ]
    }
   ],
   "source": [
    "import random\n",
    "\n",
    "def roll_dice(num_dice):\n",
    "    dice = [1, 2, 3, 4, 5, 6]\n",
    "    rolls = []\n",
    "    for i in range(num_dice):\n",
    "        roll = random.choice(dice)\n",
    "        rolls.append(roll)\n",
    "    rolls.sort(reverse=True)\n",
    "    return rolls\n",
    "\n",
    "def attack(attacker, defender):\n",
    "    attacker_dice = min(attacker - 1, 3)\n",
    "    defender_dice = min(defender, 2)\n",
    "    attacker_rolls = roll_dice(attacker_dice)\n",
    "    defender_rolls = roll_dice(defender_dice)\n",
    "    for i in range(min(attacker_dice, defender_dice)):\n",
    "        if attacker_rolls[i] > defender_rolls[i]:\n",
    "            defender -= 1\n",
    "        else:\n",
    "            attacker -= 1\n",
    "    return attacker, defender\n",
    "\n",
    "def play_game(num_armies):\n",
    "    player1_armies = num_armies\n",
    "    player2_armies = num_armies\n",
    "    while player1_armies > 1 and player2_armies > 1:\n",
    "        print(f\"Player 1 has {player1_armies} armies and Player 2 has {player2_armies} armies.\")\n",
    "        player1_attacker = int(input(\"Player 1, how many armies do you want to attack with? \"))\n",
    "        while player1_attacker < 2 or player1_attacker >= player1_armies:\n",
    "            player1_attacker = int(input(\"Invalid number of armies. Please choose a number between 2 and {player1_armies-1}: \"))\n",
    "        player1_defender = int(input(\"Player 1, how many armies do you want to defend with? \"))\n",
    "        while player1_defender < 1 or player1_defender > min(player2_armies, 2):\n",
    "            player1_defender = int(input(f\"Invalid number of armies. Please choose a number between 1 and {min(player2_armies, 2)}: \"))\n",
    "        player2_attacker = random.randint(2, min(player2_armies, 3))\n",
    "        player2_defender = random.randint(1, min(player1_armies - 1, 2))\n",
    "        print(f\"Player 1 attacks with {player1_attacker} armies and defends with {player1_defender} armies.\")\n",
    "        print(f\"Player 2 attacks with {player2_attacker} armies and defends with {player2_defender} armies.\")\n",
    "        player1_armies, player2_armies = attack(player1_attacker, player2_defender)\n",
    "        if player2_armies > 1:\n",
    "            player2_armies, player1_armies = attack(player2_attacker, player1_defender)\n",
    "    if player1_armies > 1:\n",
    "        print(\"Player 1 wins!\")\n",
    "    else:\n",
    "        print(\"Player 2 wins!\")\n",
    "        \n",
    "play_game(10)\n"
   ]
  },
  {
   "attachments": {},
   "cell_type": "markdown",
   "metadata": {},
   "source": [
    "# Kahoot\n",
    "\n",
    "\n",
    "if the image dont work: i got 2438\n",
    "\n",
    "i went to the bathroom during the majority of the game, so i could not answer all of the questions"
   ]
  }
 ],
 "metadata": {
  "kernelspec": {
   "display_name": "Python 3",
   "language": "python",
   "name": "python3"
  },
  "language_info": {
   "codemirror_mode": {
    "name": "ipython",
    "version": 3
   },
   "file_extension": ".py",
   "mimetype": "text/x-python",
   "name": "python",
   "nbconvert_exporter": "python",
   "pygments_lexer": "ipython3",
   "version": "3.11.3"
  },
  "orig_nbformat": 4
 },
 "nbformat": 4,
 "nbformat_minor": 2
}
