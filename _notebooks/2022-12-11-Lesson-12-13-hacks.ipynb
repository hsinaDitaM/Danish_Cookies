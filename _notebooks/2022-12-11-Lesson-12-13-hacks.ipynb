{
 "cells": [
  {
   "attachments": {},
   "cell_type": "markdown",
   "metadata": {},
   "source": [
    "# Lesson 3.12 & 3.13 Hacks\n",
    "- toc: true\n",
    "- badges: false"
   ]
  },
  {
   "attachments": {},
   "cell_type": "markdown",
   "metadata": {},
   "source": [
    "## Hacks\n",
    "### Topic 3.12 (3.A):\n",
    "1. Define **procedure** and **parameter** in your own words\n",
    "    - procedure: a smaller section of code that is referenced another bigger code.\n",
    "    - parameter: a kind of variable  that uses a sub routine\n",
    "2. Paste a **screenshot** of completion of the quiz\n",
    "![image](https://cdn.discordapp.com/attachments/914072417310232616/1051631072611414036/Screenshot_2022-12-11_at_2.46.19_PM.png)\n",
    "3. Define **Return Values** and **Output Parameters** in your own words\n",
    " - Return Values: data that is outputted by a function after it has been executed\n",
    " - Output Parameters: the values that are returned by a function after it has been executed. \n",
    "4. Code a **procedure** that finds the square root of any given number. (make sure to call and return the function)"
   ]
  },
  {
   "cell_type": "code",
   "execution_count": 3,
   "metadata": {},
   "outputs": [
    {
     "name": "stdout",
     "output_type": "stream",
     "text": [
      "sqrt( 452 ) =  21.2602916254693\n"
     ]
    }
   ],
   "source": [
    "from math import sqrt\n",
    "\n",
    "def find_sqrt(num):\n",
    "    result = sqrt(num)\n",
    "    return result\n",
    "\n",
    "input = int(input())\n",
    "result = find_sqrt(input)\n",
    "\n",
    "print(\"sqrt(\", input, \") = \", result)"
   ]
  },
  {
   "attachments": {},
   "cell_type": "markdown",
   "metadata": {},
   "source": [
    "### Topic 3.13 (3.B):\n",
    "1. Explain, in your own words, why abstracting away your program logic into separate, modular functions is effective\n",
    "    - Abstracting away your program logic into separate, modular functions is effective because it allows you to write code that is organized, modular, and reusable.\n",
    "\n",
    "2. Create a procedure that uses other sub-procedures (other functions) within it and explain why the abstraction was needed (conciseness, shared behavior, etc.)\n",
    "\n",
    "\n"
   ]
  },
  {
   "cell_type": "code",
   "execution_count": 6,
   "metadata": {},
   "outputs": [
    {
     "name": "stdout",
     "output_type": "stream",
     "text": [
      "3.0\n"
     ]
    }
   ],
   "source": [
    "def calc_average(numbers):\n",
    "    def find_sum(nums):\n",
    "        total = 0\n",
    "        for num in nums:\n",
    "            total += num\n",
    "        return total\n",
    "\n",
    "    def find_length(nums):\n",
    "        length = 0\n",
    "        for num in nums:\n",
    "            length += 1\n",
    "        return length\n",
    "\n",
    "\n",
    "\n",
    "    sum_of_numbers = find_sum(numbers)\n",
    "    length_of_numbers = find_length(numbers)\n",
    "\n",
    "    average = sum_of_numbers / length_of_numbers\n",
    "\n",
    "    return average\n",
    "\n",
    "result = calc_average([1, 2, 3, 4, 5])\n",
    "\n",
    "print(result)\n"
   ]
  },
  {
   "attachments": {},
   "cell_type": "markdown",
   "metadata": {},
   "source": [
    "3. Add another layer of abstraction to the word counter program (HINT: create a function that can count the number of words starting with ANY character in a given string -- how can we leverage parameters for this?)"
   ]
  },
  {
   "cell_type": "code",
   "execution_count": 7,
   "metadata": {},
   "outputs": [
    {
     "name": "stdout",
     "output_type": "stream",
     "text": [
      "None\n"
     ]
    }
   ],
   "source": [
    "def calc_average(numbers):\n",
    "    def find_sum(nums):\n",
    "        total = 0\n",
    "        for num in nums:\n",
    "            total += num\n",
    "        return total\n",
    "\n",
    "    def find_length(nums):\n",
    "        length = 0\n",
    "        for num in nums:\n",
    "            length += 1\n",
    "        return length\n",
    "\n",
    "def print_num(numbers):\n",
    "    print(calc_average)\n",
    "\n",
    "\n",
    "    sum_of_numbers = find_sum(numbers)\n",
    "    length_of_numbers = find_length(numbers)\n",
    "\n",
    "    average = sum_of_numbers / length_of_numbers\n",
    "\n",
    "    return average\n",
    "\n",
    "result = calc_average([1, 2, 3, 4, 5])\n",
    "\n",
    "print(result)\n"
   ]
  },
  {
   "attachments": {},
   "cell_type": "markdown",
   "metadata": {},
   "source": [
    "### Topic 3.13 (3.C):\n",
    "1. Define procedure names and arguments in your own words.\n",
    "  - used to identify the specific procedure that needs to be executed\n",
    "2. Code some procedures that use arguments and parameters with Javascript and HTML (make sure they are interactive on your hacks page, allowing the user to input numbers and click a button to produce an output)\n",
    "  - Add two numbers\n",
    "  - Subtract two numbers\n",
    "  - Multiply two numbers\n",
    "  - Divide two numbers"
   ]
  },
  {
   "cell_type": "code",
   "execution_count": null,
   "metadata": {
    "vscode": {
     "languageId": "html"
    }
   },
   "outputs": [],
   "source": [
    "<html>\n",
    "  <head>\n",
    "    <title>Calculator</title>\n",
    "  </head>\n",
    "  <body>\n",
    "    <h1>Calculator</h1>\n",
    "    <p>Enter two numbers and an operator to perform a calculation.</p>\n",
    "    <input id=\"num1\" type=\"number\" placeholder=\"Enter a number\">\n",
    "    <input id=\"num2\" type=\"number\" placeholder=\"Enter another number\">\n",
    "    <select id=\"operator\">\n",
    "      <option value=\"+\">+</option>\n",
    "      <option value=\"-\">-</option>\n",
    "      <option value=\"*\">*</option>\n",
    "      <option value=\"/\">/</option>\n",
    "    </select>\n",
    "    <button id=\"calculate\">Calculate</button>\n",
    "    <p id=\"result\"></p>\n",
    "\n",
    "    <script>\n",
    "      const num1 = document.getElementById('num1');\n",
    "      const num2 = document.getElementById('num2');\n",
    "      const operator = document.getElementById('operator');\n",
    "\n",
    "      document.getElementById('calculate').addEventListener('click', function() {\n",
    "        const n1 = num1.value;\n",
    "        const n2 = num2.value;\n",
    "        const op = operator.value;\n",
    "\n",
    "        let result = 0;\n",
    "        if (op === '+') {\n",
    "          result = n1 + n2;\n",
    "        } else if (op === '-') {\n",
    "          result = n1 - n2;\n",
    "        } else if (op === '*') {\n",
    "          result = n1 * n2;\n",
    "        } else if (op === '/') {\n",
    "          result = n1 / n2;\n",
    "        }\n",
    "\n",
    "        document.getElementById('result').innerHTML = result;\n",
    "      });\n",
    "    </script>\n",
    "  </body>\n",
    "</html>\n"
   ]
  },
  {
   "attachments": {},
   "cell_type": "markdown",
   "metadata": {},
   "source": [
    "working version:\n",
    "https://hsinaditam.github.io/Danish_Cookies/calc"
   ]
  }
 ],
 "metadata": {
  "kernelspec": {
   "display_name": "Python 3",
   "language": "python",
   "name": "python3"
  },
  "language_info": {
   "codemirror_mode": {
    "name": "ipython",
    "version": 3
   },
   "file_extension": ".py",
   "mimetype": "text/x-python",
   "name": "python",
   "nbconvert_exporter": "python",
   "pygments_lexer": "ipython3",
   "version": "3.10.1"
  },
  "orig_nbformat": 4,
  "vscode": {
   "interpreter": {
    "hash": "aee8b7b246df8f9039afb4144a1f6fd8d2ca17a180786b69acc140d282b71a49"
   }
  }
 },
 "nbformat": 4,
 "nbformat_minor": 2
}
