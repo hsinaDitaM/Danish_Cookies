{
 "cells": [
  {
   "cell_type": "markdown",
   "metadata": {},
   "source": [
    "# TEAM 4\n",
    "> TEAM 4 HACKS\n",
    "\n",
    "- title: TEAM 4\n",
    "- toc: true\n",
    "- comments: true\n",
    "- categories: [lesson plans]"
   ]
  },
  {
   "cell_type": "markdown",
   "metadata": {},
   "source": [
    "1. Define an Iteration\n",
    "    - iteration is a repetition of a process\n",
    "2. Make your own example of an iteration with at least 4 steps and a stopping condition(Similar to mine that I did)\n",
    "    - Lose keys\n",
    "    - search the last place you saw it\n",
    "    - if not found, search the other last place you saw it\n",
    "    - if not found, give up\n",
    "    - if found, enjoy your keys\n",
    "3. Program a simple iteration."
   ]
  },
  {
   "cell_type": "code",
   "execution_count": 1,
   "metadata": {},
   "outputs": [
    {
     "name": "stdout",
     "output_type": "stream",
     "text": [
      "cat  is not dog\n",
      "tomb  is not dog\n",
      "mom  is not dog\n",
      "this is dog\n"
     ]
    }
   ],
   "source": [
    "room = [\"cat\", \"tomb\", \"mom\",\"dog\"]\n",
    "for i in room:\n",
    "    if i == \"dog\":\n",
    "        print(\"this is dog\")\n",
    "        break\n",
    "    else:\n",
    "        print(i, \" is not dog\")"
   ]
  },
  {
   "cell_type": "markdown",
   "metadata": {},
   "source": [
    "1. What is an iteration statement, in your own words?\n",
    "    - when the same procedure is repeated multiple times\n",
    "2. Create a descending list of numbers using for loop\n",
    "     - below\n",
    "3. Using while loop, make a list of numbers which will form an output of 3,16,29,42,55,68,81\n",
    "    - below"
   ]
  },
  {
   "cell_type": "code",
   "execution_count": 7,
   "metadata": {},
   "outputs": [
    {
     "name": "stdout",
     "output_type": "stream",
     "text": [
      "10\n",
      "9\n",
      "8\n",
      "7\n",
      "6\n",
      "5\n",
      "4\n",
      "3\n",
      "2\n",
      "1\n"
     ]
    }
   ],
   "source": [
    "for i in range(10, 0, -1):\n",
    "    print(i)"
   ]
  },
  {
   "cell_type": "code",
   "execution_count": 15,
   "metadata": {},
   "outputs": [
    {
     "name": "stdout",
     "output_type": "stream",
     "text": [
      "3\n",
      "16\n",
      "29\n",
      "42\n",
      "55\n",
      "68\n",
      "81\n",
      "94\n"
     ]
    }
   ],
   "source": [
    "i=3\n",
    "while i<=100:\n",
    "\tprint(i)\n",
    "\ti=i+13"
   ]
  },
  {
   "cell_type": "markdown",
   "metadata": {},
   "source": [
    "- Use the list made bellow\n",
    "- Make a variable to hold the minimum and set it to potential minimum value\n",
    "- Loop\n",
    "- Check each element to see if it is less than the minimum variable\n",
    "- If the element is less than the minimum variable, update the minimum\n",
    "- After all the elements of the list have been checked, display the minimum value\n"
   ]
  },
  {
   "cell_type": "code",
   "execution_count": null,
   "metadata": {},
   "outputs": [],
   "source": [
    "nums=[\"10\", \"15\", \"20\", \"25\", \"30\", \"35\"]\n",
    "min = min(nums)\n",
    "add = input()\n",
    "add_list = nums.append(nums)  # type: ignore\n",
    "print(add_list)\n",
    "\n",
    "\n"
   ]
  },
  {
   "cell_type": "markdown",
   "metadata": {},
   "source": [
    "![t4](/Danish_Cookies/images/t4-quiz.png)"
   ]
  },
  {
   "cell_type": "markdown",
   "metadata": {},
   "source": [
    "if the picture dosnt work: \n",
    "```\n",
    "What returns the number of elements currently in a specific list?\n",
    "length()\n",
    "Correct!\n",
    "What allows a value to be added at the end of a list?\n",
    "append()\n",
    "Correct!\n",
    "What allows an element at index i to be deleted from a list?\n",
    "remove()\n",
    "Correct!\n",
    "What allows a value to be inserted into a list at index i?\n",
    "index()\n",
    "Correct!\n",
    "100.00%\n",
    "Your total score is:  4 out of 4. Not too bad, keep on studying! \n",
    "```"
   ]
  }
 ],
 "metadata": {
  "kernelspec": {
   "display_name": "Python 3.10.1 64-bit",
   "language": "python",
   "name": "python3"
  },
  "language_info": {
   "codemirror_mode": {
    "name": "ipython",
    "version": 3
   },
   "file_extension": ".py",
   "mimetype": "text/x-python",
   "name": "python",
   "nbconvert_exporter": "python",
   "pygments_lexer": "ipython3",
   "version": "3.10.1"
  },
  "orig_nbformat": 4,
  "vscode": {
   "interpreter": {
    "hash": "aee8b7b246df8f9039afb4144a1f6fd8d2ca17a180786b69acc140d282b71a49"
   }
  }
 },
 "nbformat": 4,
 "nbformat_minor": 2
}
